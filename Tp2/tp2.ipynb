{
 "cells": [
  {
   "cell_type": "markdown",
   "metadata": {},
   "source": [
    "A) Commençons par démontrer que la matrice $\\bm{H}$ est orthogonale. Par définition, une matrice est orthogonale si $\\bm{H}^T\\bm{H}=\\bm{I}$, où $\\bm{I}$ est la matrice identité.\n",
    "\n",
    "$$\\bm{H}^T\\bm{H}=\\bm{I}$$\n",
    "$$\\bigg[\\bm{I}-\\frac{2\\bm{v}\\bm{v}^T}{\\bm{v}^T\\bm{v}}\\bigg]^T \\bigg[\\bm{I}-\\frac{2\\bm{v}\\bm{v}^T}{\\bm{v}^T\\bm{v}}\\bigg]=\\bm{I}$$\n",
    "\n",
    "En utilisant les propriétés suivantes:\\\n",
    "1)$(\\bm{A}-\\bm{B})^T=\\bm{A}^T-\\bm{B}^T$\\\n",
    "2) $(\\bm{v}\\bm{v}^T)^T=(\\bm{v}^T)^T\\bm{v}^T=\\bm{v}\\bm{v}^T$\\\n",
    "3) $(\\bm{v}^T\\bm{v})^T=\\bm{v}^T(\\bm{v}^T)^T=\\bm{v}^T\\bm{v}$\\\n",
    "\\\\\n",
    "Il en découle que : \n",
    "$$\\bigg[\\bm{I}^T-\\frac{2(\\bm{v}\\bm{v}^T)^T}{(\\bm{v}^T\\bm{v})^T}\\bigg] \\bigg[\\bm{I}-\\frac{2\\bm{v}\\bm{v}^T}{\\bm{v}^T\\bm{v}}\\bigg]=\\bigg[\\bm{I}-\\frac{2\\bm{v}\\bm{v}^T}{\\bm{v}^T\\bm{v}}\\bigg] \\bigg[\\bm{I}-\\frac{2\\bm{v}\\bm{v}^T}{\\bm{v}^T\\bm{v}}\\bigg]=\\bm{I}$$\n",
    "$$\\bm{I}-\\frac{2\\bm{v}\\bm{v}^T}{\\bm{v}^T\\bm{v}}-\\frac{2\\bm{v}\\bm{v}^T}{\\bm{v}^T\\bm{v}}+\\frac{4\\bm{v}\\bm{v}^T \\bm{v}\\bm{v}^T}{(\\bm{v}^T\\bm{v})^2}=\\bm{I}-\\frac{4\\bm{v}\\bm{v}^T}{\\bm{v}^T\\bm{v}}+\\frac{4\\bm{v}(\\bm{v}^T \\bm{v})\\bm{v}^T}{(\\bm{v}^T\\bm{v})^2}=\\bm{I}$$\n",
    "$$\\bm{I}-\\frac{4\\bm{v}\\bm{v}^T}{\\bm{v}^T\\bm{v}}+\\frac{4\\bm{v}\\bm{v}^T}{\\bm{v}^T\\bm{v}}=\\bm{I}$$\n",
    "$$\\bm{I}=\\bm{I}$$\n",
    "La matrice $\\bm{H}$ est donc orthogonale. En ce qui concerne la matrice Q, elle est définie comme :\n",
    "$$Q=\\begin{bmatrix}\n",
    "    \\bm{I}& 0 \\\\\n",
    "    0& \\bm{H}\n",
    "\\end{bmatrix}$$\n",
    "$$\\bm{Q}^T\\bm{Q}=\\begin{bmatrix}\n",
    "    \\bm{I}^T&0\\\\\n",
    "    0& \\bm{H}^T\n",
    "\\end{bmatrix} \\cdot \\begin{bmatrix}\n",
    "    \\bm{I}&0\\\\\n",
    "    0& \\bm{H}\n",
    "\\end{bmatrix}$$\n",
    "$$\\bm{Q}^T\\bm{Q}= \\begin{bmatrix}\n",
    "    \\bm{I}\\cdot \\bm{I} & 0 \\\\\n",
    "    0 & \\bm{H}^T\\cdot \\bm{H}\\\\\n",
    "\\end{bmatrix}$$\n",
    "Mais puisque $\\bm{H}$ est orthogonale, il s'ensuit que $\\bm{H}^T\\bm{H}=\\bm{I}$ donc:\n",
    "$$\\bm{Q}^T\\bm{Q}= \\begin{bmatrix}\n",
    "    \\bm{I} & 0 \\\\\n",
    "    0 & \\bm{I}\\\\\n",
    "\\end{bmatrix}=\\bm{I}$$\n",
    "La matrice $\\bm{Q}$ est donc elle aussi orthogonale.\n",
    "\n",
    "B) L'équation 2.1.5 dicte que $\\bm{Q}=\\bm{Q_0}^T\\bm{Q_1}^T\\bm{Q_2}^T...\\bm{Q_{n-1}}^T$. En utilisant la propriétés $\\bm{(ab)^T=(\\bm{b}^T\\bm{a}^T)}$:\n",
    "$$\\bm{Q}^T\\bm{Q}=(\\bm{Q_0}^T\\bm{Q_1}^T...\\bm{Q_{n-1}}^T)^T\\cdot\\bm{Q_0}^T\\bm{Q_1}^T...\\bm{Q_{n-1}}^T$$\n",
    "$$\\bm{Q}^T\\bm{Q}=\\bm{Q_{n-1}}...\\bm{Q_1}\\bm{Q_0}\\bm{Q_0}^T\\bm{Q_1}^T...\\bm{Q_{n-1}}^T$$\n",
    "Puisque les matrices de réflexions $\\bm{Q_i}$ sont orthogonales, $\\bm{Q_i}^T\\bm{Q_i}=\\bm{Q_i}\\bm{Q_i}^T=\\bm{I}$\n",
    "$$\\bm{Q}^T\\bm{Q}=\\bm{Q_{n-1}}...\\bm{Q_1}\\bm{I}\\bm{Q_1}^T...\\bm{Q_{n-1}}^T=\\bm{Q_{n-1}}...\\bm{I}...\\bm{Q_{n-1}}^T=\\bm{I}$$\n",
    "La matrice $\\bm{Q}$ est donc orthogonale"
   ]
  },
  {
   "cell_type": "code",
   "execution_count": null,
   "metadata": {},
   "outputs": [],
   "source": [
    "# C) Implémentation de la fonction Householder_qr\n",
    "    # argument --> matrice A possédant m rangées et n colonnes\n",
    "    # retourne --> les matrices Q et R obtenues par la méthode de Householder_qr\n",
    "import numpy as np\n",
    "def householder_qr(A):\n",
    "    #def de Q_i\n",
    "    n, m= A.shape\n",
    "    R = A\n",
    "\n",
    "    for i in range(n):\n",
    "        x = R[m - i : -1 , i]\n",
    "        if x[0] < 0:\n",
    "            signe = -1\n",
    "        if x[0]  >= 0:\n",
    "            signe = 1\n",
    "        \n",
    "        \n",
    "        H = np.identity(m-i)-2*()\n",
    "        I = np.identity(i)    \n"
   ]
  }
 ],
 "metadata": {
  "language_info": {
   "name": "python"
  }
 },
 "nbformat": 4,
 "nbformat_minor": 2
}
