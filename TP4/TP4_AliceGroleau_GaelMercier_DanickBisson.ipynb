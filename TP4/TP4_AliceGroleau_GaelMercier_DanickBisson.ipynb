{
 "cells": [
  {
   "cell_type": "code",
   "execution_count": 11,
   "metadata": {},
   "outputs": [],
   "source": [
    "import numpy as np\n",
    "import time\n",
    "import matplotlib.pyplot as plt\n",
    "import matplotlib.cm as cm\n",
    "import time\n",
    "import os \n",
    "\n",
    "# local files\n",
    "\n",
    "#import CTfilter as CTfilter"
   ]
  },
  {
   "cell_type": "markdown",
   "metadata": {},
   "source": [
    "1) Sur le site de XCOM, nous pouvons visualiser l'atténuation dans l'eau d'un rayon de 60 keV. En considérant un faisceau cohérent, l'atténuation pour un rayon de 60 kev est de 0,404 cm$^2$/g. En multipliant par la masse volumique de l'eau de 1 g/cm $^3$ , nous obtenons une valeur de 0,404 cm $^{-1}$. À 5 cm d'eau, il subsiste $0,404 \\; \\rm{cm^{-1}} \\cdot 5 \\; \\rm{cm} =$. Similairement, à 20 cm, il subsiste $0,404 \\; \\rm{cm^{-1}} \\cdot 20 \\; \\rm{cm} =$\n"
   ]
  },
  {
   "cell_type": "markdown",
   "metadata": {},
   "source": [
    "2) "
   ]
  },
  {
   "cell_type": "code",
   "execution_count": 7,
   "metadata": {},
   "outputs": [],
   "source": [
    "## VARIABLES ###\n",
    "\n",
    "### paramètres d'acquisition ###\n",
    "\n",
    "## largeur d'un élément de détecteur (cm)\n",
    "pixsize = 0.165\n",
    "\n",
    "## taille du détecteur (nombre d'échantillons)\n",
    "nbpixg = 336\n",
    "\n",
    "### paramètres de reconstruction ###\n",
    "\n",
    "## taille de la grille d'image (carrée)\n",
    "nbvox = 192 # options: 96, 192\n",
    "\n",
    "## taille du voxel (carré) (cm)\n",
    "voxsize = 0.2 # option: 0.4, 0.2\n",
    "\n",
    "## fichiers d'entrée\n",
    "dataDir = \"./TP4/\"\n",
    "anglesFile = \"angles.txt\"\n",
    "sinogramFile = \"sinogram-password.txt\"\n",
    "#sinogramFile = \"sinogram-patient.txt\"\n"
   ]
  },
  {
   "cell_type": "code",
   "execution_count": 8,
   "metadata": {},
   "outputs": [],
   "source": [
    "def readAngles(filename):\n",
    "\n",
    "    angles = np.loadtxt(filename)\n",
    "    nbprj = angles.shape[0]\n",
    "\n",
    "    # convertir en radians element par element\n",
    "    angles = (np.pi/180.0)*angles\n",
    "\n",
    "    return [nbprj, angles]\n",
    "\n",
    "\n",
    "## lire un sinogramme\n",
    "def readSinogram(filename):\n",
    "    \n",
    "    sinogram = np.loadtxt(filename)\n",
    "    nbprj = sinogram.shape[0]\n",
    "    nbpix = sinogram.shape[1]\n",
    "\n",
    "    return [nbprj, nbpix, sinogram]\n",
    "\n",
    "\n",
    "#enregistrer l'image\n",
    "def saveImage(image, prefix):\n",
    "    im = plt.imshow(image, cmap = cm.Greys_r)\n",
    "    plt.colorbar()\n",
    "    plt.title(\"method: \"+prefix)\n",
    "    plt.savefig(prefix+\"-\"+time.strftime(\"%Y%m%d-%H%M%S\")+\".png\")\n"
   ]
  },
  {
   "cell_type": "code",
   "execution_count": 22,
   "metadata": {},
   "outputs": [
    {
     "name": "stdout",
     "output_type": "stream",
     "text": [
      "nbprj: 720\n",
      "angles min and max (rad):\n",
      "[0.008726646259971648, 6.283185307179586]\n",
      "working on image column: 1/192\n"
     ]
    },
    {
     "name": "stderr",
     "output_type": "stream",
     "text": [
      "C:\\Users\\gaelm\\AppData\\Local\\Temp\\ipykernel_1176\\2759583443.py:43: DeprecationWarning: Conversion of an array with ndim > 0 to a scalar is deprecated, and will error in future. Ensure you extract a single element from your array before performing this operation. (Deprecated NumPy 1.25.)\n",
      "  val_xsino = round(float(posi_prime[0]/pixsize))\n"
     ]
    },
    {
     "ename": "AttributeError",
     "evalue": "'numpy.float64' object has no attribute 'append'",
     "output_type": "error",
     "traceback": [
      "\u001b[1;31m---------------------------------------------------------------------------\u001b[0m",
      "\u001b[1;31mAttributeError\u001b[0m                            Traceback (most recent call last)",
      "Cell \u001b[1;32mIn[22], line 59\u001b[0m\n\u001b[0;32m     47\u001b[0m                 \u001b[38;5;66;03m#votre code ici...\u001b[39;00m\n\u001b[0;32m     48\u001b[0m                 \u001b[38;5;66;03m#le défi est simplement géométrique;\u001b[39;00m\n\u001b[0;32m     49\u001b[0m                 \u001b[38;5;66;03m#pour chaque voxel, trouver la position par rapport au centre de la\u001b[39;00m\n\u001b[1;32m   (...)\u001b[0m\n\u001b[0;32m     54\u001b[0m                 \u001b[38;5;66;03m#du détecteur est toujours aligné avec le centre de la grille de\u001b[39;00m\n\u001b[0;32m     55\u001b[0m                 \u001b[38;5;66;03m#reconstruction peu importe l'angle.\u001b[39;00m\n\u001b[0;32m     57\u001b[0m     saveImage(image, \u001b[38;5;124m\"\u001b[39m\u001b[38;5;124mlam\u001b[39m\u001b[38;5;124m\"\u001b[39m)\n\u001b[1;32m---> 59\u001b[0m \u001b[43mlaminogram\u001b[49m\u001b[43m(\u001b[49m\u001b[43m)\u001b[49m\n",
      "Cell \u001b[1;32mIn[22], line 44\u001b[0m, in \u001b[0;36mlaminogram\u001b[1;34m()\u001b[0m\n\u001b[0;32m     42\u001b[0m             posi_prime \u001b[38;5;241m=\u001b[39m np\u001b[38;5;241m.\u001b[39mmatmul(R, posi)\n\u001b[0;32m     43\u001b[0m             val_xsino \u001b[38;5;241m=\u001b[39m \u001b[38;5;28mround\u001b[39m(\u001b[38;5;28mfloat\u001b[39m(posi_prime[\u001b[38;5;241m0\u001b[39m]\u001b[38;5;241m/\u001b[39mpixsize))\n\u001b[1;32m---> 44\u001b[0m             \u001b[43mimage\u001b[49m\u001b[43m \u001b[49m\u001b[43m[\u001b[49m\u001b[43mi\u001b[49m\u001b[43m,\u001b[49m\u001b[43m \u001b[49m\u001b[43mj\u001b[49m\u001b[43m]\u001b[49m\u001b[38;5;241;43m.\u001b[39;49m\u001b[43mappend\u001b[49m(sinogram[a, center_x\u001b[38;5;241m+\u001b[39mval_xsino])\n\u001b[0;32m     47\u001b[0m             \u001b[38;5;66;03m#votre code ici...\u001b[39;00m\n\u001b[0;32m     48\u001b[0m             \u001b[38;5;66;03m#le défi est simplement géométrique;\u001b[39;00m\n\u001b[0;32m     49\u001b[0m             \u001b[38;5;66;03m#pour chaque voxel, trouver la position par rapport au centre de la\u001b[39;00m\n\u001b[1;32m   (...)\u001b[0m\n\u001b[0;32m     54\u001b[0m             \u001b[38;5;66;03m#du détecteur est toujours aligné avec le centre de la grille de\u001b[39;00m\n\u001b[0;32m     55\u001b[0m             \u001b[38;5;66;03m#reconstruction peu importe l'angle.\u001b[39;00m\n\u001b[0;32m     57\u001b[0m saveImage(image, \u001b[38;5;124m\"\u001b[39m\u001b[38;5;124mlam\u001b[39m\u001b[38;5;124m\"\u001b[39m)\n",
      "\u001b[1;31mAttributeError\u001b[0m: 'numpy.float64' object has no attribute 'append'"
     ]
    }
   ],
   "source": [
    "def readInput():\n",
    "    # lire les angles\n",
    "    angle_path= os.path.abspath(\"angles.txt\")\n",
    "    sino_path= os.path.abspath(\"sinogram-patient.txt\")\n",
    "    [nbprj, angles] = readAngles(angle_path)\n",
    "\n",
    "    print(\"nbprj:\",nbprj)\n",
    "    print(\"angles min and max (rad):\")\n",
    "    print(\"[\"+str(np.min(angles))+\", \"+str(np.max(angles))+\"]\")\n",
    "\n",
    "    # lire le sinogramme\n",
    "    [nbprj2, nbpix2, sinogram] = readSinogram(sino_path)\n",
    "    return [nbprj, angles, sinogram]\n",
    "\n",
    "\n",
    "## reconstruire une image TDM en mode rétroprojection\n",
    "def laminogram():\n",
    "    \n",
    "    [nbprj, angles, sinogram] = readInput()\n",
    "\n",
    "    # initialiser une image reconstruite\n",
    "    image = np.zeros((nbvox, nbvox))\n",
    "\n",
    "    # \"etaler\" les projections sur l'image\n",
    "    # ceci sera fait de façon \"voxel-driven\"\n",
    "    # pour chaque voxel, trouver la contribution du signal reçu\n",
    "    center_x = nbvox / 2\n",
    "    center_y = nbvox / 2\n",
    "    for j in range(nbvox): # colonnes de l'image\n",
    "        print(\"working on image column: \"+str(j+1)+\"/\"+str(nbvox))\n",
    "        for i in range(nbvox): # lignes de l'image\n",
    "\n",
    "            for a in range(len(angles)):\n",
    "                theta = angles[i]\n",
    "                R = np.array([[np.cos(theta), -np.sin(theta)],\n",
    "                            [np.sin(theta), np.cos(theta)]])\n",
    "                x = j - center_x * voxsize\n",
    "                y = center_y - i * voxsize\n",
    "                posi = np.array([[x],\n",
    "                            [y]])\n",
    "\n",
    "                posi_prime = np.matmul(R, posi)\n",
    "                val_xsino = round(float(posi_prime[0]/pixsize))\n",
    "                image [i, j].append(sinogram[a, center_x+val_xsino])\n",
    "\n",
    "                                \n",
    "                #votre code ici...\n",
    "                #le défi est simplement géométrique;\n",
    "                #pour chaque voxel, trouver la position par rapport au centre de la\n",
    "                #grille de reconstruction et déterminer la position d'arrivée\n",
    "                #sur le détecteur d'un rayon partant de ce point et atteignant\n",
    "                #le détecteur avec un angle de 90 degrés. Vous pouvez utiliser\n",
    "                #le pixel le plus proche ou interpoler linéairement...Rappel, le centre\n",
    "                #du détecteur est toujours aligné avec le centre de la grille de\n",
    "                #reconstruction peu importe l'angle.\n",
    "                        \n",
    "    saveImage(image, \"lam\")\n",
    "\n",
    "laminogram()"
   ]
  }
 ],
 "metadata": {
  "kernelspec": {
   "display_name": "Python 3",
   "language": "python",
   "name": "python3"
  },
  "language_info": {
   "codemirror_mode": {
    "name": "ipython",
    "version": 3
   },
   "file_extension": ".py",
   "mimetype": "text/x-python",
   "name": "python",
   "nbconvert_exporter": "python",
   "pygments_lexer": "ipython3",
   "version": "3.12.0"
  }
 },
 "nbformat": 4,
 "nbformat_minor": 2
}
