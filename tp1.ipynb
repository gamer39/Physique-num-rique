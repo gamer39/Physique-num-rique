{
 "cells": [
  {
   "cell_type": "code",
   "execution_count": 1,
   "metadata": {},
   "outputs": [],
   "source": [
    "import numpy as np\n",
    "import scipy as sp\n",
    "from scipy.stats import gamma\n",
    "import pandas as pd\n",
    "import matplotlib.pyplot as plt\n",
    "import math"
   ]
  },
  {
   "attachments": {},
   "cell_type": "markdown",
   "metadata": {},
   "source": [
    "Question 1: \n",
    "On cherche $\\pi(\\lambda|X=x)$, soit la loi à posteriori, afin de déduire f(x). La loi à posteriori est égal à la loi à priori multipliée par la vraisemblance, divisée par une constante f(x):\n",
    "$$\\pi(\\lambda|X=x) = \\frac{f(x|\\Lambda=\\lambda)\\pi(\\lambda)}{f(x)}$$\n",
    "On sait que la loi à priori $\\pi(\\lambda)$ est conjuguée à la vraisemblance $f(x|\\Lambda=\\lambda)$. Ceci implique qu'en les multipliant, on peut retrouver la forme de $\\pi(\\lambda)$, soit la forme d'une loi Gamma. \n",
    "\n",
    "La constante f(x) vient du fait que l'intégrale d'une densité de probabilité sur l'entièreté de son domaine, soit la loi à posteriori ici, doit donner 1. On cherche donc une fonction $g(\\lambda)$ proportionnelle à la loi à posteriori, contenant uniquement les termes en $\\lambda$. Il sera ensuite possible de déduire la constante f(x) qui comprend les termes permettant de normaliser le résultat de l'intégrale de la probabilité de densité sur son domaine. \n",
    "\n",
    "On a donc \n",
    "$$\\pi(\\lambda|X=x) \\propto g(\\lambda)$$\n",
    "\n",
    "Trouvons $g(\\lambda)$ sachant que $f(x|\\Lambda=\\lambda)\\pi(\\lambda)$ redonne une loi Gamma. \n",
    "\n",
    "$$f(x|\\Lambda=\\lambda)\\pi(\\lambda) = \\frac{\\lambda^{\\alpha-1}e^{-\\beta\\lambda}\\beta^{\\alpha}}{\\Gamma(\\alpha)}\\Pi_{i=1}^{T}\\lambda e^{-\\lambda x_i}$$\n",
    "\n",
    "On peut simplifier le produit sachant que $\\lambda$ est multiplié T fois, et que le produit d'un nombre avec exposant devient la somme des exposants, on obtient:\n",
    "$$f(x|\\Lambda=\\lambda)\\pi(\\lambda) = \\frac{\\lambda^{\\alpha-1+T}e^{-\\lambda(\\beta+\\sum_{i=1}^Tx_i)}\\beta^{\\alpha}}{\\Gamma(\\alpha)}$$\n",
    "Les termes importants sont ceux contenants la variable $\\lambda$, ainsi on peut écrire\n",
    "$$g(\\lambda) \\propto \\lambda^{\\alpha-1+T}e^{-\\lambda(\\beta+\\sum_{i=1}^T)}$$\n",
    "Pour que $g(\\lambda)$ conserve la forme d'une loi Gamma, il faut lui ajouter les valeurs $\\Gamma(\\lambda)$ et $\\beta^{\\alpha}$ en considérant que:\n",
    "$\\alpha$ devient $\\alpha + T$ \n",
    "$\\beta$ devient $\\beta+\\sum_{i=1}^Tx_i$\n",
    "\n",
    "On obtient\n",
    "$$g(\\lambda) = \\frac{\\lambda^{\\alpha-1+T}e^{-\\lambda(\\beta+\\sum_{i=1}^Tx_i)}(\\beta+\\sum_{i=1}^Tx_i)^{\\alpha+T}}{\\Gamma(\\alpha+T)}$$ \n",
    "\n",
    "On peut donc trouver f(x) :\n",
    "$$\\frac{f(x|\\Lambda=\\lambda)\\pi(\\lambda)}{f(x)} = g(\\lambda)$$\n",
    "$$f(x) = \\frac{f(x|\\Lambda=\\lambda)\\pi(\\lambda)}{g(\\lambda)} = \\frac{\\lambda^{\\alpha-1+T}e^{-\\lambda(\\beta+\\sum_{i=1}^Tx_i)}\\beta^{\\alpha}}{\\Gamma(\\alpha)}\\frac{\\Gamma(\\alpha+T)}{\\lambda^{\\alpha-1+T}e^{-\\lambda(\\beta+\\sum_{i=1}^Tx_i)}(\\beta+\\sum_{i=1}^Tx_i)^{\\alpha+T}} = \\frac{\\beta^{\\alpha}}{\\Gamma(\\alpha)}\\frac{\\Gamma(\\alpha+T)}{(\\beta+\\sum_{i=1}^T x_i)^{\\alpha+T}}$$\n",
    "\n",
    "\n",
    "\n",
    "\n",
    "\n",
    "\n",
    "\n",
    "\n",
    "\n",
    "\n",
    "\n",
    "\n",
    "Question 2:\n",
    "$$\\lambda_0=E[\\Lambda]=\\int_0^\\infty \\lambda \\pi(\\lambda) d\\lambda$$\n",
    "\n",
    "$$\\lambda_0=\\int_0^\\infty \\frac{\\lambda}{\\Gamma[\\alpha]} \\lambda^{\\alpha-1}e^{-\\beta\\lambda}\\beta^{\\alpha}d\\lambda$$\n",
    "\n",
    "$$\\lambda_0=\\frac{\\beta^\\alpha}{\\Gamma(\\alpha)}\\int_0^\\infty  \\lambda^{\\alpha}e^{-\\beta\\lambda}d\\lambda$$\n",
    "En posant $t=\\beta \\lambda$, $\\alpha=z-1$ et sachant que $\\int_0^{\\infty}t^{z-1}e^{-t}dt=\\Gamma[z]$, on peut calculer:\n",
    "$$\\lambda_0=\\frac{\\beta^\\alpha}{\\Gamma(\\alpha)}\\int_0^\\infty  \n",
    " \\frac{t^{z-1}}{\\beta^{z-1}}e^{-\\beta \\frac{t}{\\beta}}\\frac{dt}{\\beta}$$ \n",
    "\n",
    " $$\\lambda_0=\\frac{\\beta^{\\alpha-1}}{\\Gamma(\\alpha)}\\int_0^\\infty  \n",
    " \\frac{t^{z-1}}{\\beta^{z-1}}e^{- t}dt$$ \n",
    " \n",
    " $$\\lambda_0=\\frac{\\beta^{\\alpha-1}}{\\Gamma(\\alpha)(\\beta^{z-1})}\\int_0^\\infty \n",
    " t^{z-1}e^{- t}dt=\\frac{\\beta^{\\alpha-1}}{\\Gamma(\\alpha)(\\beta^{\\alpha})}\\Gamma[\\alpha+1]=\\frac{\\alpha \\Gamma[\\alpha]}{\\Gamma[\\alpha] \\beta^\\alpha}$$\n",
    " $$\\lambda_0=\\frac{\\alpha}{\\beta}$$\n",
    "\n",
    "\n",
    "\n",
    "\n",
    "\n",
    "\n",
    "\n",
    " $$\\hat{\\lambda}=\\int_0^{\\infty}\\lambda \\pi(\\lambda|X=x)$$\n",
    " $$\\hat{\\lambda}=\\int_0^{\\infty}\\frac{\\lambda}{f(x)}\\frac{\\lambda^{\\alpha-1} e^{-\\beta\\lambda} \\beta^{\\alpha}}{\\Gamma[\\alpha]} \\Pi_{i=1}^T \\lambda e^{-\\lambda x_i} d\\lambda$$\n",
    " $$\\hat{\\lambda}=\\frac{\\beta^\\alpha}{\\Gamma[\\alpha]}\\int_0^\\infty \\frac{\\lambda^{\\alpha}\\lambda^T e^{-\\beta \\lambda} e^{\\sum_{i=1}^T -\\lambda x_i}}{\\frac{B^{\\alpha}}{\\Gamma(\\alpha)}\\bigg[ \\Gamma(T+\\alpha)(\\beta+\\sum_{x_i=1}^{\\infty}x_i)^{-\\alpha-T}\\bigg]}d\\lambda$$\n",
    "\n",
    "  $$\\hat{\\lambda}=\\frac{1}{\\Gamma(T+\\alpha)(\\beta+\\sum_{x_i=1}^{\\infty}x_i)^{-\\alpha-T}}\\int_0^\\infty\\lambda^{\\alpha}\\lambda^T e^{-\\beta \\lambda} e^{-\\lambda \\sum_{i=1}^T x_i}d\\lambda$$\n",
    "  $$\\hat{\\lambda}=\\frac{1}{\\Gamma(T+\\alpha)(\\beta+\\sum_{x_i=1}^{\\infty}x_i)^{-\\alpha-T}}\\int_0^\\infty\\lambda^{\\alpha+T} e^{-\\lambda(\\beta+\\sum_{i=1}^T x_i)}d\\lambda$$\n",
    "L'intégrale peut se résoudre grâce à la relation utilisé plus haut: \n",
    "$$\\int_0^\\infty\\lambda^{\\alpha+T} e^{-\\lambda(\\beta+\\sum_{i=1}^T x_i)}d\\lambda=\\int_0^\\infty\\lambda^{\\alpha+T} e^{-C_1\\lambda}d\\lambda$$\n",
    "En posant $\\alpha+T=z-1$ ains qui $t=\\frac{\\lambda}{C_1}$, $dt=C_1 d\\lambda$:\n",
    "$$\\int_0^\\infty\\lambda^{\\alpha+T} e^{-C_1\\lambda}d\\lambda=\\int_0^\\infty(\\frac{t}{C_1})^{z-1} e^{-t}\\frac{dt}{C_1}$$\n",
    "$$=\\frac{1}{C_1^z}\\int_0^\\infty t^{z-1}e^{-t}dt=\\frac{1}{C_1^z}\\Gamma[z]=\\frac{\\Gamma[\\alpha+T+1]}{(\\beta+\\sum_{i=1}^T x_i)^{\\alpha+T+1}}$$\n",
    "En reprenant dans l'équation de $\\hat{\\lambda}$:\n",
    "\n",
    "$$\\hat{\\lambda}=\\frac{\\Gamma[\\alpha+T+1]}{(\\beta+\\sum_{i=1}^T x_i)^{\\alpha+T+1}\\Gamma(T+\\alpha)(\\beta+\\sum_{x_i=1}^{\\infty}x_i)^{-\\alpha-T}}$$\n",
    "Avec l'identité $\\Gamma[z+1]=z\\Gamma[z]$:\n",
    "  \n",
    "$$\\hat{\\lambda}=\\frac{(\\alpha+T)\\;\\Gamma(T+\\alpha)}{\\Gamma(T+\\alpha)(\\beta+\\sum_{x_i=1}^{\\infty}x_i)}=\\frac{\\alpha+T}{\\beta+\\sum_{x_i=1}^{\\infty}x_i}$$\n"
   ]
  },
  {
   "attachments": {},
   "cell_type": "markdown",
   "metadata": {},
   "source": [
    "Question 3: Pour lire les trois fichiers, il est possible d'utiliser le module pandas. "
   ]
  },
  {
   "cell_type": "code",
   "execution_count": 2,
   "metadata": {},
   "outputs": [],
   "source": [
    "def txt_to_list(file_path):\n",
    "    float_list = []\n",
    "    with open(file_path, 'r') as file:\n",
    "        for line in file:\n",
    "\n",
    "            float_list.append(float(line.strip()))\n",
    "    return float_list\n",
    "\n",
    "data0= txt_to_list(\"Tp1/data/activite_temps_0.txt\")\n",
    "data1= txt_to_list(\"Tp1/data/activite_temps_1.txt\")\n",
    "data2= txt_to_list(\"Tp1/data/activite_temps_2.txt\")\n",
    "\n"
   ]
  },
  {
   "attachments": {},
   "cell_type": "markdown",
   "metadata": {},
   "source": [
    "Question 4:\n",
    "\n",
    "$$f(x)=\\int_0^\\infty\\frac{B^{\\alpha}\\lambda^{\\alpha-1}e^{-\\beta\\lambda}}{\\Gamma(\\alpha)} \\lambda^T e^{-\\lambda\\cdot \\sum_{x_i=1}^{\\infty}x_i}d\\lambda$$\n",
    "\n",
    "$$\\hat{\\lambda}=\\int_0^{200}=\\lambda\\frac{1}{f(x)}\\frac{B^{\\alpha}\\lambda^{\\alpha-1}e^{-\\beta\\lambda}}{\\Gamma(\\alpha)} \\lambda^T e^{-\\lambda\\cdot \\sum_{x_i=1}^{\\infty}x_i}d\\lambda$$\n",
    "Pour se simplifier la tâche lors de la construction de ces équations dans python, nous pouvons y aller en plusieurs morceaux. Premièrement, le terme $\\frac{\\lambda^{\\alpha-1}e^{-\\Beta\\lambda}B^{\\alpha}}{\\Gamma(\\alpha)}$ peut être représenté comme un fonction gamma avec les paramètres $\\alpha=2$,$\\beta=\\frac{1}{4}$ grâce au module scipy."
   ]
  },
  {
   "cell_type": "code",
   "execution_count": 3,
   "metadata": {},
   "outputs": [
    {
     "name": "stdout",
     "output_type": "stream",
     "text": [
      "2707266.6666666665\n"
     ]
    }
   ],
   "source": [
    "##############INPUTS################################# \n",
    "alpha=2\n",
    "beta=1/4 \n",
    "dataset=data0\n",
    "######Calcul des délais################\n",
    "def delay(data):\n",
    "    delais=[]\n",
    "    for i in range(0, len(data)):\n",
    "        if i == (len(data)-1):\n",
    "            break\n",
    "        else:\n",
    "            delais.append(data[i+1]-data[i])\n",
    "    return(delais)\n",
    "\n",
    "sum_x=sum(delay(dataset))\n",
    "\n",
    "################################\n",
    "T=len(delay(dataset))\n",
    "\n",
    "################### Méthode de simpson\n",
    "def simpson(f, a, b, N):        #Fonction qui effectue le calcul de l'intégral\n",
    "    #Paramètres: f: intégrande, [a, b]: limite d'intégration, N: nombre de tranche\n",
    "    h = (b - a) / N             # Le pas utilisé (dx)\n",
    "    x = np.linspace(a, b, N) \n",
    "    s1=0.0\n",
    "    for k in range(1, N, 2):\n",
    "        s1 += f(a+k*h)\n",
    "    s2=0.0\n",
    "    for k in range(2, N, 2):\n",
    "        s2 += f(a+k*h)\n",
    "    return((f(a)+f(b)+4.0*s1+2.0*s2)*h/3.0) #Formule de simpson\n",
    "\n",
    "################### Calcul de f(x) avec l'équation analytique###########################\n",
    "def func_gamma(x): \n",
    "    return (math.factorial(x-1)) #Gamma(n)=(n-1)!\n",
    "\n",
    "def f(L):           # La variable lambda est représenté par la lettre L\n",
    "    return(gamma.pdf(L, alpha, scale=1/beta)*(L**len(dataset))*math.exp(-L*sum_x)) # constante de normalisation f(x), la fonction gamma.pdf\n",
    "                                                                                    # retourne la densité de probabilité\n",
    "\n",
    "\n",
    "fx_chiffre=((beta**alpha)/(func_gamma(alpha)))*func_gamma(T+alpha)*((beta+sum_x)**(-alpha-T))\n",
    "fx_int=simpson(f, 0, 200, 10000)\n",
    "\n",
    "\n",
    "\n",
    "def test(x):\n",
    "    return(x**2+2*x+3)\n",
    "\n",
    "print(simpson(test, 0, 200, 10000))\n",
    "\n",
    "\n",
    "############### Définition de la fonction lambda_hat\n",
    "def lambda_ideal(L):\n",
    "    return(L*(1/fx_chiffre)*gamma.pdf(L, alpha, scale=1/beta)*L**len(dataset)*math.exp(-L*sum_x)) #Équation de la valeur idéale\n",
    "\n",
    "\n",
    "############################## Calcul de l'intégral de Simpson ########\n",
    "\n",
    "\n",
    "\n",
    "\n",
    "\n"
   ]
  },
  {
   "attachments": {},
   "cell_type": "markdown",
   "metadata": {},
   "source": [
    "Pour la méthode de Romberg, il faut premièrement définir un calcul de l'intégral avec la méthode du trapèze, puis par la suite itérer en augmentant le nombre de tranche jusqu'à ce que l'erreur sur calculs soit en dessous de notre critère. Deux équations sont nécéssaires soit celle de l'erreur: $c_m h_i^{2m}=\\frac{1}{4^m-1}(R_{i,m}-R_{i-1,m})+O(h_i^{2m+2})$ ainsi que celle pour calculer les différents facteurs R : $R_{i, m}=$."
   ]
  },
  {
   "cell_type": "code",
   "execution_count": 4,
   "metadata": {},
   "outputs": [
    {
     "name": "stdout",
     "output_type": "stream",
     "text": [
      "2707275.024088569\n"
     ]
    }
   ],
   "source": [
    "def trapèze(f,a, b, N):\n",
    "    h=(b-a)/N\n",
    "    s=0.5*f(a)+0.5*f(b)\n",
    "    for k in range(1,N):\n",
    "        s += f(a+k*h)\n",
    "    return(h*s)\n",
    "\n",
    "def romberg(f, a, b, N, epsilon):\n",
    "    #paramètres f: intégrande, [a, b]: domaine d'intégration, N: nombre de tranches, epsilon: erreur acceptable\n",
    "    count=0 #initialise un compteur pour s'assurer un minimum d'itérations avant d'arrêter la fonction\n",
    "    flag = False #initialise un drapeau pour permettre de briser toutes les boucles si besoin est\n",
    "    R = np.zeros((N, N)) #Matrice de Romberg vide\n",
    "    for i in range(30, N):\n",
    "        count += 1\n",
    "        R[i, 0] = trapèze(f, a, b, i) #On commence par calculer la première valeur d'une ligne. Ex: R_11, R_21, R_31 etc\n",
    "        for m in range(0, i):\n",
    "            R[i, m+1] = (4**(m+1) * R[i, m] - R[i-1, m]) / (4**(m+1) - 1) # On calcul le restant des valeurs de la ligne. Ex: R_31, R_32, R_33\n",
    "            if (R[i, m]-R[i-1, m])/(4**i-1) < epsilon and count > 400: # On calcul si l'erreur est plus petite que la valeur acceptable et que le \n",
    "                flag = True                                            # nombre minimal d'itérations a été atteint\n",
    "                print(\"limite erreur atteinte\")\n",
    "                break\n",
    "        if flag == True: #On sort des deux boucles\n",
    "            break\n",
    "    return R[-1,-1]\n",
    "\n",
    "fx=romberg(f, 0, 200, 200, 1E-16)\n",
    "lambda_hat=romberg(lambda_ideal, 0, 200, 200, 1E-3)\n",
    "\n",
    "def g(x):\n",
    "    return(x**2+2*x+3)\n",
    "print(romberg(g, 0, 200, 400, 1E-16))\n",
    "\n",
    "\n",
    "\n",
    "\n",
    "\n",
    "\n",
    "\n",
    "\n",
    "\n",
    "\n",
    "\n",
    "\n",
    "\n",
    "\n",
    "\n",
    "\n"
   ]
  },
  {
   "attachments": {},
   "cell_type": "markdown",
   "metadata": {},
   "source": [
    "Question 5: Erreur sur la mesure\n",
    "L'erreur engendré par chacune des méthodes d'intégration peut être calculé avec l'équation 5.30 du Computational Physics de Newman: $\\epsilon=\\frac{1}{3}[I_i-I_{i-1}]$, où $I_i$ est la valeur calculé de l'intégral pour un nombre de tranche i. "
   ]
  },
  {
   "cell_type": "code",
   "execution_count": 5,
   "metadata": {},
   "outputs": [
    {
     "name": "stdout",
     "output_type": "stream",
     "text": [
      "2\n",
      "4\n",
      "8\n",
      "16\n",
      "32\n",
      "64\n",
      "128\n",
      "256\n",
      "512\n",
      "1024\n",
      "2048\n",
      "4096\n",
      "8192\n",
      "10000\n"
     ]
    },
    {
     "data": {
      "text/plain": [
       "[<matplotlib.lines.Line2D at 0x9856c31ab0>]"
      ]
     },
     "execution_count": 5,
     "metadata": {},
     "output_type": "execute_result"
    },
    {
     "data": {
      "image/png": "[encoded data removed]",
      "text/plain": [
       "<Figure size 640x480 with 1 Axes>"
      ]
     },
     "metadata": {},
     "output_type": "display_data"
    }
   ],
   "source": [
    "def erreur_romberg(f, I):\n",
    "    j= I/2\n",
    "    j = int(j)\n",
    "    x = romberg(f, 0, 200, I, 1E-16)\n",
    "    y =romberg(f, 0, 200, j, 1E-16)\n",
    "    erreur_romberg = (1/3)*(x-y)\n",
    "    return erreur_romberg\n",
    "\n",
    "def erreur_simpson(f, I):\n",
    "    j= I/2\n",
    "    j = int(j)\n",
    "    a = simpson(f, 0, 200, I)\n",
    "    b = simpson(f, 0, 200, j)\n",
    "    erreur_simpson = abs((1/3)*(a-b))\n",
    "    return erreur_simpson\n",
    "\n",
    "#erreur_romberg(200, 100)\n",
    "\n",
    "erreur_simpson(lambda_ideal, 10000)\n",
    "\n",
    "liste_erreur = []\n",
    "liste_i = []\n",
    "\n",
    "for i in range(1, 15):\n",
    "    n = 2**i\n",
    "    if n > 10000:\n",
    "        n = 10000\n",
    "    liste_i.append(n)\n",
    "    print(n)\n",
    "    liste_erreur.append(erreur_simpson(lambda_ideal, n))\n",
    "plt.plot(liste_i, liste_erreur)\n",
    "#plt.plot(liste_i[10:15], liste_erreur[10:15])\n",
    "\n",
    "\n"
   ]
  },
  {
   "attachments": {},
   "cell_type": "markdown",
   "metadata": {},
   "source": [
    "Question 6: Les défis relié à l'intégration numérique....\n"
   ]
  },
  {
   "cell_type": "code",
   "execution_count": 14,
   "metadata": {},
   "outputs": [],
   "source": [
    "#Question 7\n",
    "delais0= delay(data0)\n",
    "delais1=delay(data1)\n",
    "delais2=delay(data2)\n",
    "\n",
    "delais0_formatté=[\"%.4f\" % i for i in delais0]\n",
    "delais0_formatté=[float(i) for i in delais0_formatté]\n",
    "\n",
    "arr0 = np.array(delais0_formatté)\n"
   ]
  }
 ],
 "metadata": {
  "kernelspec": {
   "display_name": "Python 3",
   "language": "python",
   "name": "python3"
  },
  "language_info": {
   "codemirror_mode": {
    "name": "ipython",
    "version": 3
   },
   "file_extension": ".py",
   "mimetype": "text/x-python",
   "name": "python",
   "nbconvert_exporter": "python",
   "pygments_lexer": "ipython3",
   "version": "3.10.0"
  },
  "orig_nbformat": 4
 },
 "nbformat": 4,
 "nbformat_minor": 2
}
