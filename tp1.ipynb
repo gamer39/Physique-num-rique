{
 "cells": [
  {
   "cell_type": "code",
   "execution_count": 2,
   "metadata": {},
   "outputs": [],
   "source": [
    "import numpy as np\n",
    "import scipy as sp\n",
    "from scipy.stats import gamma\n",
    "import pandas as pd\n",
    "import matplotlib.pyplot as plt\n",
    "import math"
   ]
  },
  {
   "attachments": {},
   "cell_type": "markdown",
   "metadata": {},
   "source": [
    "Question 1: \n",
    "On cherche $\\pi(\\lambda|X=x)$, soit la loi à posteriori, afin de déduire f(x). La loi à posteriori est égal à la loi à priori multipliée par la vraisemblance, divisée par une constante f(x):\n",
    "$$\\pi(\\lambda|X=x) = \\frac{f(x|\\Lambda=\\lambda)\\pi(\\lambda)}{f(x)}$$\n",
    "On sait que la loi à priori $\\pi(\\lambda)$ est conjuguée à la vraisemblance $f(x|\\Lambda=\\lambda)$. Ceci implique qu'en les multipliant, on peut retrouver la forme de $\\pi(\\lambda)$, soit la forme d'une loi Gamma. \n",
    "\n",
    "La constante f(x) vient du fait que l'intégrale d'une densité de probabilité sur l'entièreté de son domaine, soit la loi à posteriori ici, doit donner 1. On cherche donc une fonction $g(\\lambda)$ proportionnelle à la loi à posteriori, contenant uniquement les termes en $\\lambda$. Il sera ensuite possible de déduire la constante f(x) qui comprend les termes permettant de normaliser le résultat de l'intégrale de la probabilité de densité sur son domaine. \n",
    "\n",
    "On a donc \n",
    "$$\\pi(\\lambda|X=x) \\propto g(\\lambda)$$\n",
    "\n",
    "Trouvons $g(\\lambda)$ sachant que $f(x|\\Lambda=\\lambda)\\pi(\\lambda)$ redonne une loi Gamma. \n",
    "\n",
    "$$f(x|\\Lambda=\\lambda)\\pi(\\lambda) = \\frac{\\lambda^{\\alpha-1}e^{-\\beta\\lambda}\\beta^{\\alpha}}{\\Gamma(\\alpha)}\\Pi_{i=1}^{T}\\lambda e^{-\\lambda x_i}$$\n",
    "\n",
    "On peut simplifier le produit sachant que $\\lambda$ est multiplié T fois, et que le produit d'un nombre avec exposant devient la somme des exposants, on obtient:\n",
    "$$f(x|\\Lambda=\\lambda)\\pi(\\lambda) = \\frac{\\lambda^{\\alpha-1+T}e^{-\\lambda(\\beta+\\sum_{i=1}^Tx_i)}\\beta^{\\alpha}}{\\Gamma(\\alpha)}$$\n",
    "Les termes importants sont ceux contenants la variable $\\lambda$, ainsi on peut écrire\n",
    "$$g(\\lambda) \\propto \\lambda^{\\alpha-1+T}e^{-\\lambda(\\beta+\\sum_{i=1}^T)}$$\n",
    "Pour que $g(\\lambda)$ conserve la forme d'une loi Gamma, il faut lui ajouter les valeurs $\\Gamma(\\lambda)$ et $\\beta^{\\alpha}$ en considérant que:\n",
    "$\\alpha$ devient $\\alpha + T$ \n",
    "$\\beta$ devient $\\beta+\\sum_{i=1}^Tx_i$\n",
    "\n",
    "On obtient\n",
    "$$g(\\lambda) = \\frac{\\lambda^{\\alpha-1+T}e^{-\\lambda(\\beta+\\sum_{i=1}^Tx_i)}(\\beta+\\sum_{i=1}^Tx_i)^{\\alpha+T}}{\\Gamma(\\alpha+T)}$$ \n",
    "\n",
    "On peut donc trouver f(x) :\n",
    "$$\\frac{f(x|\\Lambda=\\lambda)\\pi(\\lambda)}{f(x)} = g(\\lambda)$$\n",
    "$$f(x) = \\frac{f(x|\\Lambda=\\lambda)\\pi(\\lambda)}{g(\\lambda)} = \\frac{\\lambda^{\\alpha-1+T}e^{-\\lambda(\\beta+\\sum_{i=1}^Tx_i)}\\beta^{\\alpha}}{\\Gamma(\\alpha)}\\frac{\\Gamma(\\alpha+T)}{\\lambda^{\\alpha-1+T}e^{-\\lambda(\\beta+\\sum_{i=1}^Tx_i)}(\\beta+\\sum_{i=1}^Tx_i)^{\\alpha+T}} = \\frac{\\beta^{\\alpha}}{\\Gamma(\\alpha)}\\frac{\\Gamma(\\alpha+T)}{(\\beta+\\sum_{i=1}^T x_i)^{\\alpha+T}}$$\n",
    "\n",
    "\n",
    "\n",
    "\n",
    "\n",
    "\n",
    "\n",
    "\n",
    "\n",
    "\n",
    "\n",
    "\n",
    "Question 2:\n",
    "$$\\lambda_0=E[\\Lambda]=\\int_0^\\infty \\lambda \\pi(\\lambda) d\\lambda$$\n",
    "\n",
    "$$\\lambda_0=\\int_0^\\infty \\frac{\\lambda}{\\Gamma[\\alpha]} \\lambda^{\\alpha-1}e^{-\\beta\\lambda}\\beta^{\\alpha}d\\lambda$$\n",
    "\n",
    "$$\\lambda_0=\\frac{\\beta^\\alpha}{\\Gamma(\\alpha)}\\int_0^\\infty  \\lambda^{\\alpha}e^{-\\beta\\lambda}d\\lambda$$\n",
    "En posant $t=\\beta \\lambda$, $\\alpha=z-1$ et sachant que $\\int_0^{\\infty}t^{z-1}e^{-t}dt=\\Gamma[z]$, on peut calculer:\n",
    "$$\\lambda_0=\\frac{\\beta^\\alpha}{\\Gamma(\\alpha)}\\int_0^\\infty  \n",
    " \\frac{t^{z-1}}{\\beta^{z-1}}e^{-\\beta \\frac{t}{\\beta}}\\frac{dt}{\\beta}$$ \n",
    "\n",
    " $$\\lambda_0=\\frac{\\beta^{\\alpha-1}}{\\Gamma(\\alpha)}\\int_0^\\infty  \n",
    " \\frac{t^{z-1}}{\\beta^{z-1}}e^{- t}dt$$ \n",
    " \n",
    " $$\\lambda_0=\\frac{\\beta^{\\alpha-1}}{\\Gamma(\\alpha)(\\beta^{z-1})}\\int_0^\\infty \n",
    " t^{z-1}e^{- t}dt=\\frac{\\beta^{\\alpha-1}}{\\Gamma(\\alpha)(\\beta^{\\alpha})}\\Gamma[\\alpha+1]=\\frac{\\alpha \\Gamma[\\alpha]}{\\Gamma[\\alpha] \\beta^\\alpha}$$\n",
    " $$\\lambda_0=\\frac{\\alpha}{\\beta}$$\n",
    "\n",
    "\n",
    "\n",
    "\n",
    "\n",
    "\n",
    "\n",
    " $$\\hat{\\lambda}=\\int_0^{\\infty}\\lambda \\pi(\\lambda|X=x)$$\n",
    " $$\\hat{\\lambda}=\\int_0^{\\infty}\\frac{\\lambda}{f(x)}\\frac{\\lambda^{\\alpha-1} e^{-\\beta\\lambda} \\beta^{\\alpha}}{\\Gamma[\\alpha]} \\Pi_{i=1}^T \\lambda e^{-\\lambda x_i} d\\lambda$$\n",
    " $$\\hat{\\lambda}=\\frac{\\beta^\\alpha}{\\Gamma[\\alpha]}\\int_0^\\infty \\frac{\\lambda^{\\alpha}\\lambda^T e^{-\\beta \\lambda} e^{\\sum_{i=1}^T -\\lambda x_i}}{\\frac{B^{\\alpha}}{\\Gamma(\\alpha)}\\bigg[ \\Gamma(T+\\alpha)(\\beta+\\sum_{x_i=1}^{\\infty}x_i)^{-\\alpha-T}\\bigg]}d\\lambda$$\n",
    "\n",
    "  $$\\hat{\\lambda}=\\frac{1}{\\Gamma(T+\\alpha)(\\beta+\\sum_{x_i=1}^{\\infty}x_i)^{-\\alpha-T}}\\int_0^\\infty\\lambda^{\\alpha}\\lambda^T e^{-\\beta \\lambda} e^{-\\lambda \\sum_{i=1}^T x_i}d\\lambda$$\n",
    "  $$\\hat{\\lambda}=\\frac{1}{\\Gamma(T+\\alpha)(\\beta+\\sum_{x_i=1}^{\\infty}x_i)^{-\\alpha-T}}\\int_0^\\infty\\lambda^{\\alpha+T} e^{-\\lambda(\\beta+\\sum_{i=1}^T x_i)}d\\lambda$$\n",
    "L'intégrale peut se résoudre grâce à la relation utilisé plus haut: \n",
    "$$\\int_0^\\infty\\lambda^{\\alpha+T} e^{-\\lambda(\\beta+\\sum_{i=1}^T x_i)}d\\lambda=\\int_0^\\infty\\lambda^{\\alpha+T} e^{-C_1\\lambda}d\\lambda$$\n",
    "En posant $\\alpha+T=z-1$ ains qui $t=\\frac{\\lambda}{C_1}$, $dt=C_1 d\\lambda$:\n",
    "$$\\int_0^\\infty\\lambda^{\\alpha+T} e^{-C_1\\lambda}d\\lambda=\\int_0^\\infty(\\frac{t}{C_1})^{z-1} e^{-t}\\frac{dt}{C_1}$$\n",
    "$$=\\frac{1}{C_1^z}\\int_0^\\infty t^{z-1}e^{-t}dt=\\frac{1}{C_1^z}\\Gamma[z]=\\frac{\\Gamma[\\alpha+T+1]}{(\\beta+\\sum_{i=1}^T x_i)^{\\alpha+T+1}}$$\n",
    "En reprenant dans l'équation de $\\hat{\\lambda}$:\n",
    "\n",
    "$$\\hat{\\lambda}=\\frac{\\Gamma[\\alpha+T+1]}{(\\beta+\\sum_{i=1}^T x_i)^{\\alpha+T+1}\\Gamma(T+\\alpha)(\\beta+\\sum_{x_i=1}^{\\infty}x_i)^{-\\alpha-T}}$$\n",
    "Avec l'identité $\\Gamma[z+1]=z\\Gamma[z]$:\n",
    "  \n",
    "$$\\hat{\\lambda}=\\frac{(\\alpha+T)\\;\\Gamma(T+\\alpha)}{\\Gamma(T+\\alpha)(\\beta+\\sum_{x_i=1}^{\\infty}x_i)}=\\frac{\\alpha+T}{\\beta+\\sum_{x_i=1}^{\\infty}x_i}$$\n"
   ]
  },
  {
   "attachments": {},
   "cell_type": "markdown",
   "metadata": {},
   "source": [
    "Question 3: Pour lire les trois fichiers, il est possible d'utiliser le module pandas. "
   ]
  },
  {
   "cell_type": "code",
   "execution_count": 3,
   "metadata": {},
   "outputs": [],
   "source": [
    "def txt_to_list(file_path):\n",
    "    float_list = []\n",
    "    with open(file_path, 'r') as file:\n",
    "        for line in file:\n",
    "\n",
    "            float_list.append(float(line.strip()))\n",
    "    return float_list\n",
    "\n",
    "data0= txt_to_list(\"Tp1/data/activite_temps_0.txt\")\n",
    "data1= txt_to_list(\"Tp1/data/activite_temps_1.txt\")\n",
    "data2= txt_to_list(\"Tp1/data/activite_temps_2.txt\")\n",
    "\n"
   ]
  },
  {
   "attachments": {},
   "cell_type": "markdown",
   "metadata": {},
   "source": [
    "Question 4:\n",
    "\n",
    "$$f(x)=\\int_0^\\infty\\frac{B^{\\alpha}\\lambda^{\\alpha-1}e^{-\\beta\\lambda}}{\\Gamma(\\alpha)} \\lambda^T e^{-\\lambda\\cdot \\sum_{x_i=1}^{\\infty}x_i}d\\lambda$$\n",
    "\n",
    "$$\\hat{\\lambda}=\\int_0^{200}=\\lambda\\frac{1}{f(x)}\\frac{B^{\\alpha}\\lambda^{\\alpha-1}e^{-\\beta\\lambda}}{\\Gamma(\\alpha)} \\lambda^T e^{-\\lambda\\cdot \\sum_{x_i=1}^{\\infty}x_i}d\\lambda$$\n",
    "Pour se simplifier la tâche lors de la construction de ces équations dans python, nous pouvons y aller en plusieurs morceaux. Premièrement, le terme $\\frac{\\lambda^{\\alpha-1}e^{-\\Beta\\lambda}B^{\\alpha}}{\\Gamma(\\alpha)}$ peut être représenté comme un fonction gamma avec les paramètres $\\alpha=2$,$\\beta=\\frac{1}{4}$ grâce au module scipy."
   ]
  },
  {
   "cell_type": "code",
   "execution_count": 4,
   "metadata": {},
   "outputs": [
    {
     "name": "stdout",
     "output_type": "stream",
     "text": [
      "2707266.6666666665\n"
     ]
    }
   ],
   "source": [
    "##############INPUTS################################# \n",
    "alpha=2\n",
    "beta=1/4 \n",
    "dataset=data0\n",
    "######Calcul des délais################\n",
    "def delay(data):\n",
    "    delais=[]\n",
    "    for i in range(0, len(data)):\n",
    "        if i == (len(data)-1):\n",
    "            break\n",
    "        else:\n",
    "            delais.append(data[i+1]-data[i])\n",
    "    return(delais)\n",
    "\n",
    "sum_x=sum(delay(dataset))\n",
    "\n",
    "################################\n",
    "T=len(delay(dataset))\n",
    "\n",
    "################### Méthode de simpson\n",
    "def simpson(f, a, b, N):        #Fonction qui effectue le calcul de l'intégral\n",
    "    #Paramètres: f: intégrande, [a, b]: limite d'intégration, N: nombre de tranche\n",
    "    h = (b - a) / N             # Le pas utilisé (dx)\n",
    "    x = np.linspace(a, b, N) \n",
    "    s1=0.0\n",
    "    for k in range(1, N, 2):\n",
    "        s1 += f(a+k*h)\n",
    "    s2=0.0\n",
    "    for k in range(2, N, 2):\n",
    "        s2 += f(a+k*h)\n",
    "    return((f(a)+f(b)+4.0*s1+2.0*s2)*h/3.0) #Formule de simpson\n",
    "\n",
    "################### Calcul de f(x) avec l'équation analytique###########################\n",
    "def func_gamma(x): \n",
    "    return (math.factorial(x-1)) #Gamma(n)=(n-1)!\n",
    "\n",
    "def f(L):           # La variable lambda est représenté par la lettre L\n",
    "    return(gamma.pdf(L, alpha, scale=1/beta)*(L**len(dataset))*math.exp(-L*sum_x)) # constante de normalisation f(x), la fonction gamma.pdf\n",
    "                                                                                    # retourne la densité de probabilité\n",
    "\n",
    "\n",
    "fx_chiffre=((beta**alpha)/(func_gamma(alpha)))*func_gamma(T+alpha)*((beta+sum_x)**(-alpha-T))\n",
    "fx_int=simpson(f, 0, 200, 10000)\n",
    "\n",
    "\n",
    "\n",
    "def test(x):\n",
    "    return(x**2+2*x+3)\n",
    "\n",
    "print(simpson(test, 0, 200, 10000))\n",
    "\n",
    "\n",
    "############### Définition de la fonction lambda_hat\n",
    "def lambda_ideal(L):\n",
    "    return(L*(1/fx_chiffre)*gamma.pdf(L, alpha, scale=1/beta)*L**len(dataset)*math.exp(-L*sum_x)) #Équation de la valeur idéale\n",
    "\n",
    "\n",
    "############################## Calcul de l'intégral de Simpson ########\n",
    "\n",
    "\n",
    "\n",
    "\n",
    "\n"
   ]
  },
  {
   "attachments": {},
   "cell_type": "markdown",
   "metadata": {},
   "source": [
    "Pour la méthode de Romberg, il faut premièrement définir un calcul de l'intégral avec la méthode du trapèze, puis par la suite itérer en augmentant le nombre de tranche jusqu'à ce que l'erreur sur calculs soit en dessous de notre critère. Deux équations sont nécéssaires soit celle de l'erreur: $c_m h_i^{2m}=\\frac{1}{4^m-1}(R_{i,m}-R_{i-1,m})+O(h_i^{2m+2})$ ainsi que celle pour calculer les différents facteurs R : $R_{i, m}=$."
   ]
  },
  {
   "cell_type": "code",
   "execution_count": 5,
   "metadata": {},
   "outputs": [
    {
     "name": "stdout",
     "output_type": "stream",
     "text": [
      "2707275.024088569\n"
     ]
    }
   ],
   "source": [
    "def trapèze(f,a, b, N):\n",
    "    h=(b-a)/N\n",
    "    s=0.5*f(a)+0.5*f(b)\n",
    "    for k in range(1,N):\n",
    "        s += f(a+k*h)\n",
    "    return(h*s)\n",
    "\n",
    "def romberg(f, a, b, N, epsilon):\n",
    "    #paramètres f: intégrande, [a, b]: domaine d'intégration, N: nombre de tranches, epsilon: erreur acceptable\n",
    "    count=0 #initialise un compteur pour s'assurer un minimum d'itérations avant d'arrêter la fonction\n",
    "    flag = False #initialise un drapeau pour permettre de briser toutes les boucles si besoin est\n",
    "    R = np.zeros((N, N)) #Matrice de Romberg vide\n",
    "    for i in range(30, N):\n",
    "        count += 1\n",
    "        R[i, 0] = trapèze(f, a, b, i) #On commence par calculer la première valeur d'une ligne. Ex: R_11, R_21, R_31 etc\n",
    "        for m in range(0, i):\n",
    "            R[i, m+1] = (4**(m+1) * R[i, m] - R[i-1, m]) / (4**(m+1) - 1) # On calcul le restant des valeurs de la ligne. Ex: R_31, R_32, R_33\n",
    "            if (R[i, m]-R[i-1, m])/(4**i-1) < epsilon and count > 400: # On calcul si l'erreur est plus petite que la valeur acceptable et que le \n",
    "                flag = True                                            # nombre minimal d'itérations a été atteint\n",
    "                print(\"limite erreur atteinte\")\n",
    "                break\n",
    "        if flag == True: #On sort des deux boucles\n",
    "            break\n",
    "    return R[-1,-1]\n",
    "\n",
    "fx=romberg(f, 0, 200, 200, 1E-16)\n",
    "lambda_hat=romberg(lambda_ideal, 0, 200, 200, 1E-3)\n",
    "\n",
    "def g(x):\n",
    "    return(x**2+2*x+3)\n",
    "print(romberg(g, 0, 200, 400, 1E-16))\n",
    "\n",
    "\n",
    "\n",
    "\n",
    "\n",
    "\n",
    "\n",
    "\n",
    "\n",
    "\n",
    "\n",
    "\n",
    "\n",
    "\n",
    "\n",
    "\n"
   ]
  },
  {
   "attachments": {},
   "cell_type": "markdown",
   "metadata": {},
   "source": [
    "Question 5: Erreur sur la mesure\n",
    "L'erreur engendré par chacune des méthodes d'intégration peut être calculé avec l'équation 5.30 du Computational Physics de Newman: $\\epsilon=\\frac{1}{3}[I_i-I_{i-1}]$, où $I_i$ est la valeur calculé de l'intégral pour un nombre de tranche i. "
   ]
  },
  {
   "cell_type": "code",
   "execution_count": 12,
   "metadata": {},
   "outputs": [
    {
     "name": "stdout",
     "output_type": "stream",
     "text": [
      "2\n",
      "4\n",
      "8\n",
      "16\n",
      "32\n",
      "64\n",
      "128\n",
      "256\n",
      "512\n",
      "1024\n",
      "2048\n",
      "4096\n",
      "8192\n",
      "10000\n"
     ]
    },
    {
     "data": {
      "text/plain": [
       "[<matplotlib.lines.Line2D at 0x2d2ecae57f0>]"
      ]
     },
     "execution_count": 12,
     "metadata": {},
     "output_type": "execute_result"
    },
    {
     "data": {
      "image/png": "[encoded data removed]",
      "text/plain": [
       "<Figure size 640x480 with 1 Axes>"
      ]
     },
     "metadata": {},
     "output_type": "display_data"
    }
   ],
   "source": [
    "def erreur_romberg(f, I):\n",
    "    j= I/2\n",
    "    j = int(j)\n",
    "    x = romberg(f, 0, 200, I, 1E-16)\n",
    "    y =romberg(f, 0, 200, j, 1E-16)\n",
    "    erreur_romberg = (1/3)*(x-y)\n",
    "    return erreur_romberg\n",
    "\n",
    "def erreur_simpson(f, I):\n",
    "    j= I/2\n",
    "    j = int(j)\n",
    "    a = simpson(f, 0, 200, I)\n",
    "    b = simpson(f, 0, 200, j)\n",
    "    erreur_simpson = abs((1/3)*(a-b))\n",
    "    return erreur_simpson\n",
    "\n",
    "#erreur_romberg(200, 100)\n",
    "\n",
    "erreur_simpson(lambda_ideal, 10000)\n",
    "\n",
    "liste_erreur = []\n",
    "liste_i = []\n",
    "\n",
    "for i in range(1, 15):\n",
    "    n = 2**i\n",
    "    if n > 10000:\n",
    "        n = 10000\n",
    "    liste_i.append(n)\n",
    "    print(n)\n",
    "    liste_erreur.append(erreur_simpson(lambda_ideal, n))\n",
    "plt.plot(liste_i, liste_erreur)\n",
    "#plt.plot(liste_i[10:15], liste_erreur[10:15])\n",
    "\n",
    "\n"
   ]
  },
  {
   "attachments": {},
   "cell_type": "markdown",
   "metadata": {},
   "source": [
    "Question 6: Les défis relié à l'intégration numérique....\n"
   ]
  },
  {
   "cell_type": "code",
   "execution_count": 7,
   "metadata": {},
   "outputs": [
    {
     "name": "stdout",
     "output_type": "stream",
     "text": [
      "[0.17250000000000001, 0.0032999999999999974, 0.029799999999999993, 0.046599999999999975, 0.21040000000000003, 0.019299999999999984, 0.21250000000000002, 0.044300000000000006, 0.03310000000000002, 0.8454999999999999, 0.10719999999999996, 0.007900000000000018, 0.028100000000000014, 0.035700000000000065, 0.03489999999999993, 0.139, 0.02200000000000024, 0.007099999999999884, 0.0030000000000001137, 0.01849999999999996, 0.012399999999999967, 0.038799999999999724, 0.17100000000000026, 0.06579999999999986, 0.09529999999999994, 0.010000000000000231, 0.09059999999999979, 0.38019999999999987, 0.06960000000000033, 0.1759999999999997, 0.12190000000000012, 0.018200000000000216, 0.025699999999999612, 0.2261000000000002, 0.08820000000000006, 0.01869999999999994, 0.1987000000000001, 0.12400000000000011, 0.10379999999999967, 0.4005000000000001, 0.07460000000000022, 0.08209999999999962, 0.04490000000000016, 0.20099999999999962, 0.2439, 0.09240000000000048, 0.0838000000000001, 0.03880000000000017, 0.016899999999999693, 0.19449999999999967, 0.05880000000000063, 0.11289999999999978, 0.03939999999999966, 0.2549999999999999, 0.20870000000000033, 0.04610000000000003, 0.1429999999999998, 0.00649999999999995, 0.2359, 0.9917000000000007, 0.14449999999999985, 0.10299999999999976, 0.11360000000000081, 0.023899999999999366, 0.030300000000000438, 0.054499999999999105, 0.22210000000000107, 0.20409999999999862, 0.04190000000000005, 0.04780000000000051, 0.13199999999999967, 0.08510000000000062, 0.07010000000000005, 0.0024999999999995026, 0.0030000000000001137, 0.13269999999999982, 0.09420000000000073, 0.1476999999999986, 0.07170000000000165, 0.0016999999999995907, 0.0257000000000005, 0.1372, 0.23769999999999847, 0.27580000000000027, 0.0129999999999999, 0.024200000000000443, 0.05109999999999992, 0.027300000000000324, 0.05269999999999975, 0.1576000000000004, 0.010299999999999088, 0.15160000000000018, 0.047900000000000276, 0.05080000000000062, 0.12899999999999956, 0.041100000000000136]\n",
      "[0.0088, 0.0315, 0.0148, 0.1505, 0.2665, 0.03629999999999994, 0.000500000000000056, 0.02290000000000003, 0.0010999999999999899, 0.0121, 0.01529999999999998, 0.01539999999999997, 0.08020000000000005, 0.08699999999999997, 0.027100000000000013, 0.01200000000000001, 0.0363, 0.005299999999999971, 9.999999999998899e-05, 0.012900000000000023, 0.02429999999999999, 0.1865000000000001, 0.08399999999999985, 0.04170000000000007, 0.09729999999999994, 0.03600000000000003, 0.0018000000000000238, 0.0007999999999999119, 0.007100000000000106, 0.005700000000000038, 0.03939999999999988, 0.12490000000000001, 0.06570000000000009, 0.08409999999999984, 0.018400000000000194, 0.042300000000000004, 0.0017999999999998018, 0.0013000000000000789, 0.01869999999999994, 0.007100000000000106, 0.05549999999999988, 0.04859999999999998, 0.007000000000000117, 0.020499999999999963, 0.08960000000000012, 0.004999999999999893, 0.00029999999999996696, 0.0030000000000001137, 0.016899999999999915, 0.0046999999999999265, 0.001000000000000112, 0.25250000000000017, 0.07050000000000001, 0.06489999999999974, 0.040200000000000014, 0.008300000000000196, 0.0005999999999999339, 0.0036000000000000476, 0.0021999999999997577, 0.1955, 0.0007999999999999119, 0.046499999999999986, 0.019200000000000106, 0.060900000000000176, 0.011299999999999866, 0.0, 0.0024000000000001798, 0.026899999999999924, 0.06369999999999987, 0.13060000000000027, 0.21009999999999973, 0.03550000000000031, 0.06469999999999976, 0.009100000000000108, 0.0024999999999999467, 0.0011999999999998678, 0.008000000000000007, 0.19019999999999992, 0.13180000000000014, 0.11699999999999999, 0.09770000000000012, 0.06119999999999992, 0.0040000000000000036, 0.017199999999999882, 0.00039999999999995595, 0.0041999999999999815, 0.01980000000000004, 0.1737000000000002, 0.11519999999999975, 0.05010000000000048, 0.05319999999999947, 0.012100000000000222, 0.01440000000000019, 0.0009999999999994458, 0.002000000000000668, 0.02659999999999929]\n",
      "[0.2022, 0.04570000000000002, 0.21979999999999994, 0.018400000000000083, 0.02200000000000002, 0.013499999999999956, 0.01869999999999994, 0.022500000000000075, 0.04949999999999999, 0.005900000000000016, 0.013900000000000023, 0.03909999999999991, 0.051000000000000045, 0.03420000000000001, 0.008199999999999985, 0.10939999999999994, 0.02100000000000013, 0.06640000000000001, 0.05630000000000002, 0.08539999999999992, 0.1278999999999999, 0.07430000000000003, 0.001100000000000101, 0.006599999999999939, 0.024499999999999966, 0.009200000000000097, 0.03529999999999989, 0.04160000000000008, 0.018799999999999928, 0.005700000000000038, 0.04499999999999993, 0.0014000000000000679, 0.0047999999999999154, 0.025100000000000122, 0.00770000000000004, 0.04939999999999989, 0.008800000000000141, 0.030399999999999983, 0.03139999999999987, 0.016000000000000014, 0.09840000000000004, 0.0653999999999999, 0.020000000000000018, 0.002000000000000224, 0.007899999999999796, 0.06459999999999999, 0.0041999999999999815, 0.015000000000000124, 0.007099999999999884, 0.00010000000000021103, 0.013099999999999667, 0.01130000000000031, 0.013599999999999834, 0.04559999999999986, 0.004100000000000215, 0.016799999999999926, 0.014699999999999935, 0.0, 0.011400000000000077, 0.03860000000000019, 0.00509999999999966, 0.011600000000000055, 0.016900000000000137, 0.006200000000000205, 0.026599999999999735, 0.013399999999999856, 0.013800000000000257, 0.005700000000000038, 0.02389999999999981, 0.02859999999999996, 0.0019000000000000128, 0.007300000000000306, 0.0008999999999996788, 0.0026999999999999247, 0.0020999999999999908, 0.009500000000000064, 0.0054000000000002935, 0.05689999999999973, 0.02200000000000024, 0.016899999999999693, 0.0018000000000002458, 0.0118999999999998, 0.008800000000000363, 0.0038999999999997925, 0.10899999999999999, 0.017100000000000115, 0.0009999999999998899, 0.013700000000000045, 0.01639999999999997, 0.0011999999999998678, 0.0, 0.0043999999999999595, 0.005300000000000082, 0.013900000000000023, 0.004100000000000215, 0.027800000000000047]\n"
     ]
    }
   ],
   "source": [
    "#Question 7\n",
    "delais0= delay(data0)\n",
    "delais1=delay(data1)\n",
    "delais2=delay(data2)\n",
    "print(delais0)\n",
    "print(delais1)\n",
    "print(delais2)"
   ]
  }
 ],
 "metadata": {
  "kernelspec": {
   "display_name": "Python 3",
   "language": "python",
   "name": "python3"
  },
  "language_info": {
   "codemirror_mode": {
    "name": "ipython",
    "version": 3
   },
   "file_extension": ".py",
   "mimetype": "text/x-python",
   "name": "python",
   "nbconvert_exporter": "python",
   "pygments_lexer": "ipython3",
   "version": "3.9.13"
  },
  "orig_nbformat": 4
 },
 "nbformat": 4,
 "nbformat_minor": 2
}
