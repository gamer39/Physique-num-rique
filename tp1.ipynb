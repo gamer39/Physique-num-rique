{
 "cells": [
  {
   "cell_type": "code",
   "execution_count": null,
   "metadata": {},
   "outputs": [],
   "source": [
    "import numpy as np\n",
    "import scipy as sp\n",
    "from scipy.stats import gamma\n",
    "import pandas as pd\n",
    "import matplotlib.pyplot as plt\n",
    "import math"
   ]
  },
  {
   "attachments": {},
   "cell_type": "markdown",
   "metadata": {},
   "source": [
    "Question 1: Nous cherchons une équation pour la loi à posteriori $\\pi(\\lambda|X=x)$ ainsi que f(x). L'énnoncé du travail dicte que la plausabilité de cette loi peut se trouver de cette façon: \n",
    "$$\\pi(\\lambda|X=x)=\\frac{1}{f(x)}\\frac{\\lambda^{\\alpha-1}e^{-\\beta\\lambda}B^{\\alpha}}{\\Gamma(\\alpha)}\\Pi_{x_i=1}^{T} \\lambda e^{-\\lambda x_i}$$\n",
    "F(x) correspond à la constante de normalisation nécéssaire. Autrement dit, la probabilité de trouver une valeur à cette équation sur le domaine des $\\lambda$ doit être de 1, il est donc possible de réécrire: \n",
    "$$1=\\int_0^\\infty\\bigg[\\frac{1}{f(x)}\\frac{\\lambda^{\\alpha-1}e^{-\\beta\\lambda}B^{\\alpha}}{\\Gamma(\\alpha)}\\Pi_{x_i=1}^{T} \\lambda e^{-\\lambda x_i}\\bigg]d\\lambda$$\n",
    "\n",
    "$$f(x)=\\frac{B^{\\alpha}}{\\Gamma(\\alpha)}\\int_0^\\infty\\bigg[\\lambda^{\\alpha-1}e^{-\\beta\\lambda} \\lambda^T \\Pi_{i=1}^T e^{-\\lambda x_i} \\bigg]d\\lambda$$\n",
    "$$f(x)=\\frac{B^{\\alpha}}{\\Gamma(\\alpha)}\\int_0^\\infty\\bigg[\\lambda^{\\alpha-1}e^{-\\beta\\lambda} \\lambda^T e^{-\\lambda\\cdot \\sum_{x_i=1}^{\\infty}x_i}\\bigg]d\\lambda$$\n",
    "\n",
    "Pour simplifier les calculs, posons, $\\sum_{x_i=1}^{\\infty}x_i=C_1$,\n",
    "\n",
    "$$f(x)=\\frac{B^{\\alpha}}{\\Gamma(\\alpha)}\\int_0^\\infty \\lambda^{\\alpha-1+T}e^{-\\beta\\lambda-C_1\\lambda}d\\lambda$$\n",
    "\n",
    "En intégrant avec Wolfram Alpha, l'équation devient\n",
    "$$f(x)=\\frac{B^{\\alpha}}{\\Gamma(\\alpha)}\\bigg[ \\Gamma(T+\\alpha)(\\Beta+\\sum_{x_i=1}^{\\infty}x_i)^{-\\alpha-T}\\bigg]$$\n",
    "\n",
    "\n",
    "\n",
    "\n",
    "\n",
    "\n",
    "\n",
    "\n",
    "\n",
    "\n",
    "\n",
    "\n",
    "Question 2:\n",
    "$$\\lambda_0=\\int_0^\\infty \\pi(\\lambda)d\\lambda=\\int_0^\\infty \\lambda^{\\alpha-1}e^{-\\beta \\lambda}\\beta^\\lambda d\\lambda$$\n",
    "\n",
    "À CONTINUER\n",
    "\n",
    "\n"
   ]
  },
  {
   "attachments": {},
   "cell_type": "markdown",
   "metadata": {},
   "source": [
    "Question 3: Pour lire les trois fichiers, il est possible d'utiliser le module pandas. "
   ]
  },
  {
   "cell_type": "code",
   "execution_count": null,
   "metadata": {},
   "outputs": [],
   "source": [
    "\n",
    "data0=pd.read_csv(f\"Tp1/data/activite_temps_0.txt\", sep=\" \", header=None)\n",
    "data1=pd.read_csv(f\"Tp1/data/activite_temps_1.txt\", sep=\" \", header=None)\n",
    "data2=pd.read_csv(f\"Tp1/data/activite_temps_2.txt\", sep=\" \", header=None)"
   ]
  },
  {
   "attachments": {},
   "cell_type": "markdown",
   "metadata": {},
   "source": [
    "Question 4:\n",
    "\n",
    "$$f(x)=\\int_0^\\infty\\frac{B^{\\alpha}\\lambda^{\\alpha-1}e^{-\\beta\\lambda}}{\\Gamma(\\alpha)} \\lambda^T e^{-\\lambda\\cdot \\sum_{x_i=1}^{\\infty}x_i}d\\lambda$$\n",
    "\n",
    "$$\\hat{\\lambda}=\\int_0^{200}=\\lambda\\frac{1}{f(x)}\\frac{B^{\\alpha}\\lambda^{\\alpha-1}e^{-\\beta\\lambda}}{\\Gamma(\\alpha)} \\lambda^T e^{-\\lambda\\cdot \\sum_{x_i=1}^{\\infty}x_i}d\\lambda$$\n",
    "Pour se simplifier la tâche lors de la construction de ces équations dans python, nous pouvons y aller en plusieurs morceaux. Premièrement, le terme $\\frac{\\lambda^{\\alpha-1}e^{-\\Beta\\lambda}B^{\\alpha}}{\\Gamma(\\alpha)}$ peut être représenté comme un fonction gamma avec les paramètres $\\alpha=2$,$\\beta=\\frac{1}{4}$ grâce au module scipy."
   ]
  },
  {
   "cell_type": "code",
   "execution_count": null,
   "metadata": {},
   "outputs": [
    {
     "name": "stderr",
     "output_type": "stream",
     "text": [
      "C:\\Users\\merciegu\\AppData\\Local\\Temp\\ipykernel_15520\\2956582109.py:27: RuntimeWarning: overflow encountered in double_scalars\n",
      "  return(x*(1/fx)*gamma.pdf(x, alpha, loc=0, scale=1/beta)*x**len(dataset)*math.exp(-x*sum_x))\n",
      "C:\\Users\\merciegu\\AppData\\Local\\Temp\\ipykernel_15520\\2956582109.py:27: RuntimeWarning: invalid value encountered in double_scalars\n",
      "  return(x*(1/fx)*gamma.pdf(x, alpha, loc=0, scale=1/beta)*x**len(dataset)*math.exp(-x*sum_x))\n"
     ]
    },
    {
     "name": "stdout",
     "output_type": "stream",
     "text": [
      "nan\n"
     ]
    },
    {
     "name": "stderr",
     "output_type": "stream",
     "text": [
      "C:\\Users\\merciegu\\AppData\\Local\\Temp\\ipykernel_15520\\2956582109.py:27: RuntimeWarning: overflow encountered in multiply\n",
      "  return(x*(1/fx)*gamma.pdf(x, alpha, loc=0, scale=1/beta)*x**len(dataset)*math.exp(-x*sum_x))\n"
     ]
    }
   ],
   "source": [
    "alpha=2\n",
    "beta=1/4 \n",
    "dataset=data0\n",
    "sum_x=float(pd.DataFrame.sum(dataset)) #la sommation des valeurs de X1,X2,X3... est faite 1 seul fois ici\n",
    "\n",
    "\n",
    "\n",
    "\n",
    "################### Méthode de simpson\n",
    "def simpson(f, a, b, N):        #Fonction qui effectue le calcul de l'intégral\n",
    "    h = (b - a) / N             #Le pas utilisé (dx)\n",
    "    x = np.linspace(a, b, N) \n",
    "    s1=0.0\n",
    "    for k in range(1, N, 2):\n",
    "        s1 += f(a+k*h)\n",
    "    s2=0.0\n",
    "    for k in range(2, N, 2):\n",
    "        s2 += f(a+k*h)\n",
    "    return((f(a)+f(b)+4.0*s1+2.0*s1)*h/3.0)\n",
    "\n",
    "def f(x):\n",
    "    return(gamma.pdf(x, alpha, loc=0, scale=1/beta)*(x**len(dataset))*math.exp(-x*sum_x))\n",
    "\n",
    "fx=simpson(f, 0, 200, 10000)\n",
    "\n",
    "def lambda_ideal(x):\n",
    "    return(x*(1/fx)*gamma.pdf(x, alpha, loc=0, scale=1/beta)*x**len(dataset)*math.exp(-x*sum_x))\n",
    "\n",
    "lambda_hat=simpson(lambda_ideal, 0, 200, 10000)\n",
    "\n",
    "##############################\n"
   ]
  },
  {
   "attachments": {},
   "cell_type": "markdown",
   "metadata": {},
   "source": [
    "Pour la méthode de Romberg, il faut premièrement définir un calcul de l'intégral avec la méthode du trapèze, puis par la suite itérer en augmentant le nombre de tranche jusqu'à ce que l'erreur sur calculs soit en dessous de notre critère. Deux équations sont nécéssaires soit celle de l'erreur: $c_m h_i^{2m}=\\frac{1}{4^m-1}(R_{i,m}-R_{i-1,m})+O(h_i^{2m+2})$. Celle-ci peut être calcu"
   ]
  },
  {
   "cell_type": "code",
   "execution_count": 72,
   "metadata": {},
   "outputs": [
    {
     "ename": "KeyboardInterrupt",
     "evalue": "",
     "output_type": "error",
     "traceback": [
      "\u001b[1;31m---------------------------------------------------------------------------\u001b[0m",
      "\u001b[1;31mKeyboardInterrupt\u001b[0m                         Traceback (most recent call last)",
      "Cell \u001b[1;32mIn[72], line 25\u001b[0m\n\u001b[0;32m     23\u001b[0m         \u001b[39mprint\u001b[39m(R) \u001b[39m# résultats intermédiaires\u001b[39;00m\n\u001b[0;32m     24\u001b[0m     \u001b[39mreturn\u001b[39;00m R\n\u001b[1;32m---> 25\u001b[0m romberg(f, \u001b[39m0\u001b[39;49m, \u001b[39m200\u001b[39;49m, \u001b[39m100\u001b[39;49m, \u001b[39m1E-100\u001b[39;49m)\n",
      "Cell \u001b[1;32mIn[72], line 14\u001b[0m, in \u001b[0;36mromberg\u001b[1;34m(f, a, b, N, epsilon)\u001b[0m\n\u001b[0;32m     12\u001b[0m \u001b[39mfor\u001b[39;00m i \u001b[39min\u001b[39;00m \u001b[39mrange\u001b[39m(\u001b[39m30\u001b[39m, N):\n\u001b[0;32m     13\u001b[0m     count \u001b[39m+\u001b[39m\u001b[39m=\u001b[39m \u001b[39m1\u001b[39m\n\u001b[1;32m---> 14\u001b[0m     R[i, \u001b[39m0\u001b[39m] \u001b[39m=\u001b[39m trapèze(f, a, b, \u001b[39m2\u001b[39;49m\u001b[39m*\u001b[39;49m\u001b[39m*\u001b[39;49mi)\n\u001b[0;32m     15\u001b[0m     \u001b[39mfor\u001b[39;00m m \u001b[39min\u001b[39;00m \u001b[39mrange\u001b[39m(\u001b[39m0\u001b[39m, i):\n\u001b[0;32m     16\u001b[0m         R[i, m\u001b[39m+\u001b[39m\u001b[39m1\u001b[39m] \u001b[39m=\u001b[39m (\u001b[39m4\u001b[39m\u001b[39m*\u001b[39m\u001b[39m*\u001b[39m(m\u001b[39m+\u001b[39m\u001b[39m1\u001b[39m) \u001b[39m*\u001b[39m R[i, m] \u001b[39m-\u001b[39m R[i\u001b[39m-\u001b[39m\u001b[39m1\u001b[39m, m]) \u001b[39m/\u001b[39m (\u001b[39m4\u001b[39m\u001b[39m*\u001b[39m\u001b[39m*\u001b[39m(m\u001b[39m+\u001b[39m\u001b[39m1\u001b[39m) \u001b[39m-\u001b[39m \u001b[39m1\u001b[39m)\n",
      "Cell \u001b[1;32mIn[72], line 5\u001b[0m, in \u001b[0;36mtrapèze\u001b[1;34m(f, a, b, N)\u001b[0m\n\u001b[0;32m      3\u001b[0m s\u001b[39m=\u001b[39m\u001b[39m0.5\u001b[39m\u001b[39m*\u001b[39mf(a)\u001b[39m+\u001b[39m\u001b[39m0.5\u001b[39m\u001b[39m*\u001b[39mf(b)\n\u001b[0;32m      4\u001b[0m \u001b[39mfor\u001b[39;00m k \u001b[39min\u001b[39;00m \u001b[39mrange\u001b[39m(\u001b[39m1\u001b[39m,N):\n\u001b[1;32m----> 5\u001b[0m     s \u001b[39m+\u001b[39m\u001b[39m=\u001b[39m f(a\u001b[39m+\u001b[39;49mk\u001b[39m*\u001b[39;49mh)\n\u001b[0;32m      6\u001b[0m \u001b[39mreturn\u001b[39;00m(h\u001b[39m*\u001b[39ms)\n",
      "Cell \u001b[1;32mIn[27], line 22\u001b[0m, in \u001b[0;36mf\u001b[1;34m(x)\u001b[0m\n\u001b[0;32m     21\u001b[0m \u001b[39mdef\u001b[39;00m \u001b[39mf\u001b[39m(x):\n\u001b[1;32m---> 22\u001b[0m     \u001b[39mreturn\u001b[39;00m(gamma\u001b[39m.\u001b[39;49mpdf(x, alpha, loc\u001b[39m=\u001b[39;49m\u001b[39m0\u001b[39;49m, scale\u001b[39m=\u001b[39;49m\u001b[39m1\u001b[39;49m\u001b[39m/\u001b[39;49mbeta)\u001b[39m*\u001b[39m(x\u001b[39m*\u001b[39m\u001b[39m*\u001b[39m\u001b[39mlen\u001b[39m(dataset))\u001b[39m*\u001b[39mmath\u001b[39m.\u001b[39mexp(\u001b[39m-\u001b[39mx\u001b[39m*\u001b[39msum_x))\n",
      "File \u001b[1;32mc:\\Users\\merciegu\\AppData\\Local\\Programs\\Python\\Python310\\lib\\site-packages\\scipy\\stats\\_distn_infrastructure.py:1875\u001b[0m, in \u001b[0;36mrv_continuous.pdf\u001b[1;34m(self, x, *args, **kwds)\u001b[0m\n\u001b[0;32m   1873\u001b[0m cond \u001b[39m=\u001b[39m cond0 \u001b[39m&\u001b[39m cond1\n\u001b[0;32m   1874\u001b[0m output \u001b[39m=\u001b[39m zeros(shape(cond), dtyp)\n\u001b[1;32m-> 1875\u001b[0m putmask(output, (\u001b[39m1\u001b[39;49m\u001b[39m-\u001b[39;49mcond0)\u001b[39m+\u001b[39;49mnp\u001b[39m.\u001b[39;49misnan(x), \u001b[39mself\u001b[39;49m\u001b[39m.\u001b[39;49mbadvalue)\n\u001b[0;32m   1876\u001b[0m \u001b[39mif\u001b[39;00m np\u001b[39m.\u001b[39many(cond):\n\u001b[0;32m   1877\u001b[0m     goodargs \u001b[39m=\u001b[39m argsreduce(cond, \u001b[39m*\u001b[39m((x,)\u001b[39m+\u001b[39margs\u001b[39m+\u001b[39m(scale,)))\n",
      "File \u001b[1;32m<__array_function__ internals>:5\u001b[0m, in \u001b[0;36mputmask\u001b[1;34m(*args, **kwargs)\u001b[0m\n",
      "\u001b[1;31mKeyboardInterrupt\u001b[0m: "
     ]
    }
   ],
   "source": [
    "def trapèze(f,a, b, N):\n",
    "    h=(b-a)/N\n",
    "    s=0.5*f(a)+0.5*f(b)\n",
    "    for k in range(1,N):\n",
    "        s += f(a+k*h)\n",
    "    return(h*s)\n",
    "\n",
    "def romberg(f, a, b, N, epsilon):\n",
    "    count=0\n",
    "    flag = False\n",
    "    R = np.zeros((N, N))\n",
    "    for i in range(30, N):\n",
    "        count += 1\n",
    "        R[i, 0] = trapèze(f, a, b, 2**i)\n",
    "        for m in range(0, i):\n",
    "            R[i, m+1] = (4**(m+1) * R[i, m] - R[i-1, m]) / (4**(m+1) - 1)\n",
    "            if (R[i, m]-R[i-1, m])/(4**i-1) < epsilon and count > 150:\n",
    "                flag = True\n",
    "                print(\"limite erreur atteinte\")\n",
    "                break\n",
    "        if flag == True:\n",
    "            break\n",
    "        print(R) # résultats intermédiaires\n",
    "    return R\n",
    "romberg(f, 0, 200, 100, 1E-100)\n",
    "\n",
    "\n",
    "\n",
    "\n",
    "\n",
    "\n",
    "\n",
    "\n",
    "\n",
    "\n",
    "\n",
    "\n",
    "\n",
    "\n",
    "\n",
    "\n",
    "\n",
    "\n",
    "\n"
   ]
  },
  {
   "attachments": {},
   "cell_type": "markdown",
   "metadata": {},
   "source": [
    "Question 5: Erreur sur la mesure\n",
    "L'erreur engendré par chacune des méthodes d'intégration peut être calculé avec l'équation 5.30 du Computational Physics de Newman: $\\epsilon=\\frac{1}{3}[I_i-I_{i-1}]$, où $I_i$ est la valeur calculé de l'intégral pour un nombre de tranche i. "
   ]
  }
 ],
 "metadata": {
  "kernelspec": {
   "display_name": "Python 3",
   "language": "python",
   "name": "python3"
  },
  "language_info": {
   "codemirror_mode": {
    "name": "ipython",
    "version": 3
   },
   "file_extension": ".py",
   "mimetype": "text/x-python",
   "name": "python",
   "nbconvert_exporter": "python",
   "pygments_lexer": "ipython3",
   "version": "3.10.0"
  },
  "orig_nbformat": 4
 },
 "nbformat": 4,
 "nbformat_minor": 2
}
