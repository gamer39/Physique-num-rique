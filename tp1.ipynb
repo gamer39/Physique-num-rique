{
 "cells": [
  {
   "cell_type": "code",
   "execution_count": 26,
   "metadata": {},
   "outputs": [],
   "source": [
    "import numpy as np\n",
    "import scipy as sp\n",
    "from scipy.stats import gamma\n",
    "import pandas as pd\n",
    "import matplotlib.pyplot as plt\n",
    "import math"
   ]
  },
  {
   "attachments": {},
   "cell_type": "markdown",
   "metadata": {},
   "source": [
    "Question 1: Nous cherchons une équation pour la loi à posteriori $\\pi(\\lambda|X=x)$ ainsi que f(x). L'énnoncé du travail dicte que la plausabilité de cette loi peut se trouver de cette façon: \n",
    "$$\\pi(\\lambda|X=x)=\\frac{1}{f(x)}\\frac{\\lambda^{\\alpha-1}e^{-\\beta\\lambda}B^{\\alpha}}{\\Gamma(\\alpha)}\\Pi_{x_i=1}^{T} \\lambda e^{-\\lambda x_i}$$\n",
    "F(x) correspond à la constante de normalisation nécéssaire. Autrement dit, la probabilité de trouver une valeur à cette équation sur le domaine des $\\lambda$ doit être de 1, il est donc possible de réécrire: \n",
    "$$1=\\int_0^\\infty\\bigg[\\frac{1}{f(x)}\\frac{\\lambda^{\\alpha-1}e^{-\\beta\\lambda}B^{\\alpha}}{\\Gamma(\\alpha)}\\Pi_{x_i=1}^{T} \\lambda e^{-\\lambda x_i}\\bigg]d\\lambda$$\n",
    "\n",
    "$$f(x)=\\frac{B^{\\alpha}}{\\Gamma(\\alpha)}\\int_0^\\infty\\bigg[\\lambda^{\\alpha-1}e^{-\\beta\\lambda} \\lambda^T \\Pi_{i=1}^T e^{-\\lambda x_i} \\bigg]d\\lambda$$\n",
    "$$f(x)=\\frac{B^{\\alpha}}{\\Gamma(\\alpha)}\\int_0^\\infty\\bigg[\\lambda^{\\alpha-1}e^{-\\beta\\lambda} \\lambda^T e^{-\\lambda\\cdot \\sum_{x_i=1}^{\\infty}x_i}\\bigg]d\\lambda$$\n",
    "\n",
    "Pour simplifier les calculs, posons, $\\sum_{x_i=1}^{\\infty}x_i=C_1$,\n",
    "\n",
    "$$f(x)=\\frac{B^{\\alpha}}{\\Gamma(\\alpha)}\\int_0^\\infty \\lambda^{\\alpha-1+T}e^{-\\beta\\lambda-C_1\\lambda}d\\lambda$$\n",
    "\n",
    "En intégrant avec Wolfram Alpha, l'équation devient\n",
    "$$f(x)=\\frac{B^{\\alpha}}{\\Gamma(\\alpha)}\\bigg[ \\Gamma(T+\\alpha)(\\Beta+\\sum_{x_i=1}^{\\infty}x_i)^{-\\alpha-T}\\bigg]$$\n",
    "\n",
    "\n",
    "\n",
    "\n",
    "\n",
    "\n",
    "\n",
    "\n",
    "\n",
    "\n",
    "\n",
    "\n",
    "Question 2:\n",
    "$$\\lambda_0=\\int_0^\\infty \\pi(\\lambda)d\\lambda=\\int_0^\\infty \\lambda^{\\alpha-1}e^{-\\beta \\lambda}\\beta^\\lambda d\\lambda$$\n",
    "\n",
    "À CONTINUER\n",
    "\n",
    "\n"
   ]
  },
  {
   "attachments": {},
   "cell_type": "markdown",
   "metadata": {},
   "source": [
    "Question 3: Pour lire les trois fichiers, il est possible d'utiliser le module pandas. "
   ]
  },
  {
   "cell_type": "code",
   "execution_count": 8,
   "metadata": {},
   "outputs": [],
   "source": [
    "\n",
    "data0=pd.read_csv(f\"Tp1/data/activite_temps_0.txt\", sep=\" \", header=None)\n",
    "data1=pd.read_csv(f\"Tp1/data/activite_temps_1.txt\", sep=\" \", header=None)\n",
    "data2=pd.read_csv(f\"Tp1/data/activite_temps_2.txt\", sep=\" \", header=None)"
   ]
  },
  {
   "attachments": {},
   "cell_type": "markdown",
   "metadata": {},
   "source": [
    "Question 4:\n",
    "\n",
    "$$f(x)=\\int_0^\\infty\\frac{B^{\\alpha}\\lambda^{\\alpha-1}e^{-\\beta\\lambda}}{\\Gamma(\\alpha)} \\lambda^T e^{-\\lambda\\cdot \\sum_{x_i=1}^{\\infty}x_i}d\\lambda$$\n",
    "\n",
    "$$\\hat{\\lambda}=\\int_0^{200}=\\lambda\\frac{1}{f(x)}\\frac{B^{\\alpha}\\lambda^{\\alpha-1}e^{-\\beta\\lambda}}{\\Gamma(\\alpha)} \\lambda^T e^{-\\lambda\\cdot \\sum_{x_i=1}^{\\infty}x_i}d\\lambda$$\n",
    "Pour se simplifier la tâche lors de la construction de ces équations dans python, nous pouvons y aller en plusieurs morceaux. Premièrement, le terme $\\frac{\\lambda^{\\alpha-1}e^{-\\Beta\\lambda}B^{\\alpha}}{\\Gamma(\\alpha)}$ peut être représenté comme un fonction gamma avec les paramètres $\\alpha=2$,$\\beta=\\frac{1}{4}$ grâce au module scipy."
   ]
  },
  {
   "cell_type": "code",
   "execution_count": 27,
   "metadata": {},
   "outputs": [
    {
     "name": "stderr",
     "output_type": "stream",
     "text": [
      "C:\\Users\\merciegu\\AppData\\Local\\Temp\\ipykernel_15520\\2956582109.py:27: RuntimeWarning: overflow encountered in double_scalars\n",
      "  return(x*(1/fx)*gamma.pdf(x, alpha, loc=0, scale=1/beta)*x**len(dataset)*math.exp(-x*sum_x))\n",
      "C:\\Users\\merciegu\\AppData\\Local\\Temp\\ipykernel_15520\\2956582109.py:27: RuntimeWarning: invalid value encountered in double_scalars\n",
      "  return(x*(1/fx)*gamma.pdf(x, alpha, loc=0, scale=1/beta)*x**len(dataset)*math.exp(-x*sum_x))\n"
     ]
    },
    {
     "name": "stdout",
     "output_type": "stream",
     "text": [
      "nan\n"
     ]
    },
    {
     "name": "stderr",
     "output_type": "stream",
     "text": [
      "C:\\Users\\merciegu\\AppData\\Local\\Temp\\ipykernel_15520\\2956582109.py:27: RuntimeWarning: overflow encountered in multiply\n",
      "  return(x*(1/fx)*gamma.pdf(x, alpha, loc=0, scale=1/beta)*x**len(dataset)*math.exp(-x*sum_x))\n"
     ]
    }
   ],
   "source": [
    "alpha=2\n",
    "beta=1/4 \n",
    "dataset=data0\n",
    "sum_x=float(pd.DataFrame.sum(dataset)) #la sommation des valeurs de X1,X2,X3... est faite 1 seul fois ici\n",
    "\n",
    "\n",
    "\n",
    "\n",
    "################### Méthode de simpson\n",
    "def simpson(f, a, b, N):        #Fonction qui effectue le calcul de l'intégral\n",
    "    h = (b - a) / N             #Le pas utilisé (dx)\n",
    "    x = np.linspace(a, b, N) \n",
    "    s1=0.0\n",
    "    for k in range(1, N, 2):\n",
    "        s1 += f(a+k*h)\n",
    "    s2=0.0\n",
    "    for k in range(2, N, 2):\n",
    "        s2 += f(a+k*h)\n",
    "    return((f(a)+f(b)+4.0*s1+2.0*s1)*h/3.0)\n",
    "\n",
    "def f(x):\n",
    "    return(gamma.pdf(x, alpha, loc=0, scale=1/beta)*(x**len(dataset))*math.exp(-x*sum_x))\n",
    "\n",
    "fx=simpson(f, 0, 200, 10000)\n",
    "\n",
    "def lambda_ideal(x):\n",
    "    return(x*(1/fx)*gamma.pdf(x, alpha, loc=0, scale=1/beta)*x**len(dataset)*math.exp(-x*sum_x))\n",
    "\n",
    "lambda_hat=simpson(lambda_ideal, 0, 200, 10000)\n",
    "\n",
    "##############################\n"
   ]
  },
  {
   "attachments": {},
   "cell_type": "markdown",
   "metadata": {},
   "source": [
    "Pour la méthode de Romberg, il faut premièrement définir un calcul de l'intégral avec la méthode du trapèze, puis par la suite itérer en augmentant le nombre de tranche jusqu'à ce que l'erreur sur calculs soit en dessous de notre critère. Deux équations sont nécéssaires soit celle de l'erreur: $c_m h_i^{2m}=\\frac{1}{4^m-1}(R_{i,m}-R_{i-1,m})+O(h_i^{2m+2})$. Celle-ci peut être calcu"
   ]
  },
  {
   "cell_type": "code",
   "execution_count": 6,
   "metadata": {},
   "outputs": [],
   "source": [
    "def trapèze(f,a, b, N):\n",
    "    h=(b-a)/N\n",
    "    s=0.5*f(a)+0.5*f(b)\n",
    "    for k in range(1,N):\n",
    "        s += f(a+k*h)\n",
    "    return(h*s)\n",
    "\n",
    "\n",
    "def romberg(a, b, epsilon):\n",
    "    for i in range(0, 100000):\n",
    "        for m in range(0, i+1):\n",
    "            if i == 1 and m == 1:\n",
    "                return(trapèze(f,a, b, i))\n",
    "\n",
    "\n",
    "for i in range(1, 100000):\n",
    "    for m in range(1,i+1):\n",
    "        Ri=trapèze(f, i)\n",
    "        if i <2:\n",
    "            pass\n",
    "        Rii=Ri+1/(4**1-1)(R21-R11)\n",
    "        Ri=trapèze(f,i+1)\n",
    "        Rii=Ri+1/(4**m-1)(Ri-R11)\n",
    "\n",
    "\n",
    "\n",
    "\n",
    "\n",
    "\n",
    "\n",
    "\n",
    "\n",
    "\n",
    "\n",
    "\n",
    "\n",
    "\n",
    "\n",
    "\n",
    "\n",
    "\n",
    "\n",
    "\n"
   ]
  },
  {
   "attachments": {},
   "cell_type": "markdown",
   "metadata": {},
   "source": [
    "Question 5: Erreur sur la mesure\n",
    "L'erreur engendré par chacune des méthodes d'intégration peut être calculé avec l'équation 5.30 du Computational Physics de Newman: $\\epsilon=\\frac{1}{3}[I_i-I_{i-1}]$, où $I_i$ est la valeur calculé de l'intégral pour un nombre de tranche i. "
   ]
  }
 ],
 "metadata": {
  "kernelspec": {
   "display_name": "Python 3",
   "language": "python",
   "name": "python3"
  },
  "language_info": {
   "codemirror_mode": {
    "name": "ipython",
    "version": 3
   },
   "file_extension": ".py",
   "mimetype": "text/x-python",
   "name": "python",
   "nbconvert_exporter": "python",
   "pygments_lexer": "ipython3",
   "version": "3.10.0"
  },
  "orig_nbformat": 4
 },
 "nbformat": 4,
 "nbformat_minor": 2
}
