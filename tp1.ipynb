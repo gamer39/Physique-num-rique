{
 "cells": [
  {
   "cell_type": "code",
   "execution_count": 19,
   "metadata": {},
   "outputs": [],
   "source": [
    "import numpy as np\n",
    "import scipy as sp\n",
    "from scipy.stats import gamma\n",
    "import pandas as pd\n",
    "import matplotlib.pyplot as plt\n",
    "import math"
   ]
  },
  {
   "attachments": {},
   "cell_type": "markdown",
   "metadata": {},
   "source": [
    "Question 1: Nous cherchons une équation pour la loi à posteriori $\\pi(\\lambda|X=x)$ ainsi que f(x). L'énnoncé du travail dicte que la plausabilité de cette loi peut se trouver de cette façon: \n",
    "$$\\pi(\\lambda|X=x)=\\frac{1}{f(x)}\\frac{\\lambda^{\\alpha-1}e^{-\\beta\\lambda}B^{\\alpha}}{\\Gamma(\\alpha)}\\Pi_{x_i=1}^{T} \\lambda e^{-\\lambda x_i}$$\n",
    "F(x) correspond à la constante de normalisation nécéssaire. Autrement dit, la probabilité de trouver une valeur à cette équation sur le domaine des $\\lambda$ doit être de 1, il est donc possible de réécrire: \n",
    "$$1=\\int_0^\\infty\\bigg[\\frac{1}{f(x)}\\frac{\\lambda^{\\alpha-1}e^{-\\beta\\lambda}B^{\\alpha}}{\\Gamma(\\alpha)}\\Pi_{x_i=1}^{T} \\lambda e^{-\\lambda x_i}\\bigg]d\\lambda$$\n",
    "$$f(x)=\\frac{B^{\\alpha}}{\\Gamma(\\alpha)}\\Pi_{x_i=1}^{T}e^{x_i}\\int_0^\\infty\\bigg[\\lambda^{\\alpha-1}e^{-\\beta\\lambda} \\lambda^T e^{-T\\lambda}\\bigg]d\\lambda$$\n",
    "\n",
    "À SIMPLIFIER PLUS TARD, IL Y A DES ERREURS DANS LE DÉV. MAIS PAS ENCORE EU LE TEMPS DE CORRIGER. Je crois toutefois que la démarche ok. \n",
    "\n",
    "Question 2:\n",
    "$$\\lambda_0=\\int_0^\\infty \\pi(\\lambda)d\\lambda=\\int_0^\\infty \\lambda^{\\alpha-1}e^{-\\beta \\lambda}\\beta^\\lambda d\\lambda$$\n",
    "\n",
    "À CONTINUER\n",
    "\n",
    "\n"
   ]
  },
  {
   "attachments": {},
   "cell_type": "markdown",
   "metadata": {},
   "source": [
    "Question 3: Pour lire les trois fichiers, il est possible d'utiliser le module pandas. "
   ]
  },
  {
   "cell_type": "code",
   "execution_count": 14,
   "metadata": {},
   "outputs": [],
   "source": [
    "\n",
    "data0=pd.read_csv(f\"Tp1/data/activite_temps_0.txt\", sep=\" \", header=None)\n",
    "data1=pd.read_csv(f\"Tp1/data/activite_temps_1.txt\", sep=\" \", header=None)\n",
    "data2=pd.read_csv(f\"Tp1/data/activite_temps_2.txt\", sep=\" \", header=None)"
   ]
  },
  {
   "attachments": {},
   "cell_type": "markdown",
   "metadata": {},
   "source": [
    "Question 4: En reprenant l'équation pour f(x) écrite plus haut, avec $\\alpha=2$, $\\beta=0.5$, $0\\leq \\lambda \\leq 200$ et $T=97$: \n",
    "\n",
    "$$f(x)=\\int_0^{200}\\bigg[\\frac{\\lambda^1e^{-\\frac{\\lambda}{4}}B^{2}}{\\Gamma(2)}\\Pi_{x_i=1}^{97} \\lambda e^{-\\lambda x_i}\\bigg]d\\lambda$$\n",
    "Pour se simplifier la tâche lors de la construction de cette équation dans python, nous pouvons y aller en plusieurs morceaux. Premièrement, le terme $\\frac{\\lambda^1e^{-\\frac{\\lambda}{4}}B^{2}}{\\Gamma(2)}$ peut être représenté comme un fonction $\\gamma$ avec les paramètres $\\alpha=2$,$\\beta=\\frac{1}{4}$ grâce au module scipy. Le produit $\\Pi_0^{97}e^{-\\lambda x_i}= e^{-\\lambda \\cdot \\sum_0^{97} -x_i}$. Il ne reste qu'à itérer sur les valeurs de X pour calculer le paramètre. "
   ]
  },
  {
   "cell_type": "code",
   "execution_count": 20,
   "metadata": {},
   "outputs": [
    {
     "ename": "TypeError",
     "evalue": "unsupported operand type(s) for *: 'float' and 'NoneType'",
     "output_type": "error",
     "traceback": [
      "\u001b[1;31m---------------------------------------------------------------------------\u001b[0m",
      "\u001b[1;31mTypeError\u001b[0m                                 Traceback (most recent call last)",
      "Cell \u001b[1;32mIn[20], line 10\u001b[0m\n\u001b[0;32m      8\u001b[0m ypoints\u001b[39m=\u001b[39m[]\n\u001b[0;32m      9\u001b[0m \u001b[39mfor\u001b[39;00m x \u001b[39min\u001b[39;00m xpoints:\n\u001b[1;32m---> 10\u001b[0m     ypoints\u001b[39m.\u001b[39mappend(f(x,data0,\u001b[39m2\u001b[39;49m,\u001b[39m1\u001b[39;49m\u001b[39m/\u001b[39;49m\u001b[39m4\u001b[39;49m)\u001b[39m*\u001b[39;49msimpson(\u001b[39m0\u001b[39;49m,x, \u001b[39m1000\u001b[39;49m))\n",
      "\u001b[1;31mTypeError\u001b[0m: unsupported operand type(s) for *: 'float' and 'NoneType'"
     ]
    }
   ],
   "source": [
    "def f(l,dataset,alpha,beta):           #Ici lambda est représenté comme l\n",
    "    return(math.e**(l*sum(dataset))*gamma.pdf(l, alpha, loc=0, scale=1/beta))\n",
    "\n",
    "def simpson(a,b,N): \n",
    "    h=(b-a)/N\n",
    "\n",
    "xpoints=np.linspace(-100,200, 100)\n",
    "ypoints=[]\n",
    "for x in xpoints:\n",
    "    ypoints.append(f(x,data0,2,1/4)*simpson(0,x, 1000))"
   ]
  },
  {
   "cell_type": "code",
   "execution_count": null,
   "metadata": {},
   "outputs": [],
   "source": [
    "\n",
    "\n",
    "\n"
   ]
  }
 ],
 "metadata": {
  "kernelspec": {
   "display_name": "Python 3",
   "language": "python",
   "name": "python3"
  },
  "language_info": {
   "codemirror_mode": {
    "name": "ipython",
    "version": 3
   },
   "file_extension": ".py",
   "mimetype": "text/x-python",
   "name": "python",
   "nbconvert_exporter": "python",
   "pygments_lexer": "ipython3",
   "version": "3.10.0"
  },
  "orig_nbformat": 4
 },
 "nbformat": 4,
 "nbformat_minor": 2
}
