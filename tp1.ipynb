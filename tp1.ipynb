{
 "cells": [
  {
   "cell_type": "code",
   "execution_count": 2,
   "metadata": {},
   "outputs": [],
   "source": [
    "import numpy as np\n",
    "import scipy as sp\n",
    "from scipy.stats import gamma\n",
    "import pandas as pd\n",
    "import matplotlib.pyplot as plt\n",
    "import math"
   ]
  },
  {
   "attachments": {},
   "cell_type": "markdown",
   "metadata": {},
   "source": [
    "Question 1: Nous cherchons une équation pour la loi à posteriori $\\pi(\\lambda|X=x)$ ainsi que f(x). L'énnoncé du travail dicte que la plausabilité de cette loi peut se trouver de cette façon: \n",
    "$$\\pi(\\lambda|X=x)=\\frac{1}{f(x)}\\frac{\\lambda^{\\alpha-1}e^{-\\beta\\lambda}B^{\\alpha}}{\\Gamma(\\alpha)}\\Pi_{x_i=1}^{T} \\lambda e^{-\\lambda x_i}$$\n",
    "F(x) correspond à la constante de normalisation nécéssaire. Autrement dit, la probabilité de trouver une valeur à cette équation sur le domaine des $\\lambda$ doit être de 1, il est donc possible de réécrire: \n",
    "$$1=\\int_0^\\infty\\bigg[\\frac{1}{f(x)}\\frac{\\lambda^{\\alpha-1}e^{-\\beta\\lambda}B^{\\alpha}}{\\Gamma(\\alpha)}\\Pi_{x_i=1}^{T} \\lambda e^{-\\lambda x_i}\\bigg]d\\lambda$$\n",
    "\n",
    "$$f(x)=\\frac{B^{\\alpha}}{\\Gamma(\\alpha)}\\int_0^\\infty\\bigg[\\lambda^{\\alpha-1}e^{-\\beta\\lambda} \\lambda^T \\Pi_{i=1}^T e^{-\\lambda x_i} \\bigg]d\\lambda$$\n",
    "$$f(x)=\\frac{B^{\\alpha}}{\\Gamma(\\alpha)}\\int_0^\\infty\\bigg[\\lambda^{\\alpha-1}e^{-\\beta\\lambda} \\lambda^T e^{-\\lambda\\cdot \\sum_{x_i=1}^{\\infty}x_i}\\bigg]d\\lambda$$\n",
    "\n",
    "Pour simplifier les calculs, posons, $\\sum_{x_i=1}^{\\infty}x_i=C_1$,\n",
    "\n",
    "$$f(x)=\\frac{B^{\\alpha}}{\\Gamma(\\alpha)}\\int_0^\\infty \\lambda^{\\alpha-1+T}e^{-\\beta\\lambda-C_1\\lambda}d\\lambda$$\n",
    "\n",
    "En intégrant avec Wolfram Alpha, l'équation devient\n",
    "$$f(x)=\\frac{B^{\\alpha}}{\\Gamma(\\alpha)}\\bigg[ \\Gamma(T+\\alpha)(\\Beta+\\sum_{x_i=1}^{\\infty}x_i)^{-\\alpha-T}\\bigg]$$\n",
    "\n",
    "Question 2:\n",
    "$$\\lambda_0=\\int_0^\\infty \\pi(\\lambda)d\\lambda=\\int_0^\\infty \\lambda^{\\alpha-1}e^{-\\beta \\lambda}\\beta^\\lambda d\\lambda$$\n",
    "\n",
    "À CONTINUER\n",
    "\n",
    "\n"
   ]
  },
  {
   "attachments": {},
   "cell_type": "markdown",
   "metadata": {},
   "source": [
    "Question 3: Pour lire les trois fichiers, il est possible d'utiliser le module pandas. "
   ]
  },
  {
   "cell_type": "code",
   "execution_count": 3,
   "metadata": {},
   "outputs": [],
   "source": [
    "\n",
    "data0=pd.read_csv(f\"Tp1/data/activite_temps_0.txt\", sep=\" \", header=None)\n",
    "data1=pd.read_csv(f\"Tp1/data/activite_temps_1.txt\", sep=\" \", header=None)\n",
    "data2=pd.read_csv(f\"Tp1/data/activite_temps_2.txt\", sep=\" \", header=None)"
   ]
  },
  {
   "attachments": {},
   "cell_type": "markdown",
   "metadata": {},
   "source": [
    "Question 4: En reprenant l'équation pour f(x) écrite plus haut, avec $\\alpha=2$, $\\beta=0.5$, $0\\leq \\lambda \\leq 200$ et $T=97$: \n",
    "\n",
    "$$f(x)=\\int_0^{200}\\bigg[\\frac{\\lambda^1e^{-\\frac{\\lambda}{4}}B^{2}}{\\Gamma(2)}\\Pi_{x_i=1}^{97} \\lambda e^{-\\lambda x_i}\\bigg]d\\lambda$$\n",
    "Pour se simplifier la tâche lors de la construction de cette équation dans python, nous pouvons y aller en plusieurs morceaux. Premièrement, le terme $\\frac{\\lambda^1e^{-\\frac{\\lambda}{4}}B^{2}}{\\Gamma(2)}$ peut être représenté comme un fonction gamma avec les paramètres $\\alpha=2$,$\\beta=\\frac{1}{4}$ grâce au module scipy. Le produit $\\Pi_0^{97}e^{-\\lambda x_i}= e^{-\\lambda \\cdot \\sum_0^{97} -x_i}$, ce qui simplifie légèrement l'implémentation. Il ne reste qu'à itérer sur les valeurs de X pour calculer le paramètre. "
   ]
  },
  {
   "cell_type": "code",
   "execution_count": 4,
   "metadata": {},
   "outputs": [],
   "source": [
    "alpha=2\n",
    "beta=1/4 \n",
    "dataset=data0\n",
    "sum_x=float(pd.DataFrame.sum(dataset)) #la sommation des valeurs de X1,X2,X3... est faite 1 seul fois ici\n",
    "\n",
    "################### Méthode de simpson\n",
    "def simpson(f, a, b, N):        #Fonction qui effectue le calcul de l'intégral\n",
    "    h = (b - a) / N             #Le pas utilisé (dx)\n",
    "    x = np.linspace(a, b, N+1) \n",
    "    y = f(x)\n",
    "    return h/3 * (y[0] + 4*np.sum(y[1:-1:2]) + 2*np.sum(y[2:-1:2]) + y[-1]) #Formule du calcul de l'intégral de Simpson\n",
    "\n",
    "#def simpson(f, a, b, N):        #Fonction qui effectue le calcul de l'intégral\n",
    "#    h = (b - a) / N             #Le pas utilisé (dx)\n",
    "#    x = np.linspace(a, b, N) \n",
    "#    s1=0.0\n",
    "#    for k in range(1, N, 2):\n",
    "#        s1 += f(a+k*h)\n",
    "#    s2=0.0\n",
    "#    for k in range(2, N, 2):\n",
    " #       s2 += f(a+k*h)\n",
    "#    return((f(a)+f(b)+4.0*s1+2.0*s1)*h/3.0)\n",
    "\n",
    "\n",
    "\n",
    "\n",
    "def f(x):\n",
    "    return(math.e**(-x*sum_x)*gamma.pdf(x, alpha, loc=0, scale=1/beta))\n",
    "\n",
    "fx=simpson(f, 0, 200, 10000) #Paramètre f(x), dont l'équation est explicité plus haut\n",
    "\n",
    "def lambda_ideal(x):\n",
    "    return(x*(1/fx)*gamma.pdf(x, alpha, loc=0, scale=1/beta)*math.e**(-x*sum_x))\n",
    "\n",
    "lambda_hat=simpson(lambda_ideal, 0, 200, 10000)\n",
    "##############################\n",
    "def g(x):\n",
    "    return(x**2)\n"
   ]
  },
  {
   "attachments": {},
   "cell_type": "markdown",
   "metadata": {},
   "source": [
    "Pour la méthode de Romberg, il faut premièrement définir un calcul de l'intégral avec la méthode du trapèze, puis par la suite itérer en augmentant le nombre de tranche jusqu'à ce que l'erreur sur calculs est en dessous de notre critère. Deux équations sont nécéssaires soit celle de l'erreur: $c_m h_i^{2m}=\\frac{1}{4^m-1}(R_{i,m}-R_{i-1,m})+O(h_i^{2m+2})$. Celle-ci peut être calcu"
   ]
  },
  {
   "cell_type": "code",
   "execution_count": 6,
   "metadata": {},
   "outputs": [],
   "source": [
    "alpha=2\n",
    "beta=1/4 \n",
    "dataset=data0\n",
    "sum_x=float(pd.DataFrame.sum(dataset)) #la sommation des valeurs de X1,X2,X3... est faite 1 seul fois ici\n",
    "\n",
    "\n",
    "\n",
    "\n",
    "\n",
    "\n",
    "\n",
    "\n",
    "\n",
    "\n",
    "\n",
    "\n",
    "\n",
    "\n",
    "\n",
    "\n",
    "\n"
   ]
  },
  {
   "attachments": {},
   "cell_type": "markdown",
   "metadata": {},
   "source": [
    "Question 5: Erreur sur la mesure\n",
    "L'erreur engendré par chacune des méthodes d'intégration peut être calculé avec l'équation 5.30 du Computational Physics de Newman: $\\epsilon=\\frac{1}{3}[I_i-I_{i-1}]$, où $I_i$ est la valeur calculé de l'intégral pour un nombre de tranche i. "
   ]
  }
 ],
 "metadata": {
  "kernelspec": {
   "display_name": "Python 3",
   "language": "python",
   "name": "python3"
  },
  "language_info": {
   "codemirror_mode": {
    "name": "ipython",
    "version": 3
   },
   "file_extension": ".py",
   "mimetype": "text/x-python",
   "name": "python",
   "nbconvert_exporter": "python",
   "pygments_lexer": "ipython3",
   "version": "3.10.0"
  },
  "orig_nbformat": 4
 },
 "nbformat": 4,
 "nbformat_minor": 2
}
